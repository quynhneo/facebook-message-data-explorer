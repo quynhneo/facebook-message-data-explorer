{
 "cells": [
  {
   "cell_type": "code",
   "execution_count": 131,
   "metadata": {},
   "outputs": [],
   "source": [
    "import os\n",
    "import glob\n",
    "import re\n",
    "import json\n",
    "import datetime\n",
    "import pandas as pd\n",
    "import matplotlib.pyplot as plt\n",
    "import matplotlib as mpl\n",
    "mpl.rc('font',size=10)"
   ]
  },
  {
   "cell_type": "code",
   "execution_count": 132,
   "metadata": {},
   "outputs": [],
   "source": [
    "pd.set_option('display.max_rows', None)\n",
    "pd.set_option('display.max_columns', None)\n",
    "pd.set_option('display.width', None)"
   ]
  },
  {
   "cell_type": "code",
   "execution_count": 133,
   "metadata": {},
   "outputs": [],
   "source": [
    "# method to download latest data directly from facebook?"
   ]
  },
  {
   "cell_type": "code",
   "execution_count": 134,
   "metadata": {},
   "outputs": [],
   "source": [
    "\n",
    "# https://github.com/quynhneo/arxiv-public-datasets_for_kaggle/blob/master/arxiv_public_data/fulltext.py\n",
    "def sorted_files(globber: str):\n",
    "    \"\"\"\n",
    "    Give a globbing expression of files to find. They will be sorted upon\n",
    "    return.  This function is most useful when sorting does not provide\n",
    "    numerical order,\n",
    "    e.g.:\n",
    "        9 -> 12 returned as 10 11 12 9 by string sort\n",
    "    In this case use num_sort=True, and it will be sorted by numbers in the\n",
    "    string, then by the string itself.\n",
    "    Parameters\n",
    "    ----------\n",
    "    globber : str\n",
    "        Expression on which to search for files (bash glob expression)\n",
    "    \"\"\"\n",
    "    files = glob.glob(globber, recursive = True) # return a list of path, including sub directories\n",
    "    files.sort()\n",
    "\n",
    "    allfiles = []\n",
    "\n",
    "    for fn in files:\n",
    "        nums = re.findall(r'\\d+', fn) # regular expression, find number in path names\n",
    "        data = [str(int(n)) for n in nums] + [fn]\n",
    "        # a list of [first number, second number,..., filename] in string format otherwise sorted fill fail\n",
    "        allfiles.append(data) # list of list\n",
    "\n",
    "    allfiles = sorted(allfiles)\n",
    "    return [f[-1] for f in allfiles] # sorted filenames"
   ]
  },
  {
   "cell_type": "code",
   "execution_count": 135,
   "metadata": {},
   "outputs": [],
   "source": [
    "path = 'roxanne_messages'\n",
    "globber = os.path.join(path, '*.json')\n",
    "jsonfiles = sorted_files(globber)"
   ]
  },
  {
   "cell_type": "code",
   "execution_count": null,
   "metadata": {},
   "outputs": [],
   "source": []
  },
  {
   "cell_type": "code",
   "execution_count": 136,
   "metadata": {},
   "outputs": [],
   "source": [
    "def json_to_message(file):\n",
    "    \"\"\"load message to data frame, decode content and sender_name, convert time stamp to date\"\"\"\n",
    "    data = json.load(open(file,'r'))\n",
    "    df=pd.DataFrame(data['messages'])\n",
    "    df.content = df.content.apply(lambda x: str(x).encode('latin1').decode('utf8'))\n",
    "    df.sender_name = df.sender_name.apply(lambda x: str(x).encode('latin1').decode('utf8'))\n",
    "    df.timestamp_ms = df.timestamp_ms.apply(lambda x: datetime.date.fromtimestamp(x/1000) )\n",
    "    return df"
   ]
  },
  {
   "cell_type": "code",
   "execution_count": 137,
   "metadata": {},
   "outputs": [],
   "source": [
    "# iterate list of files, load data into data frame, and join them\n",
    "frame =[]\n",
    "for file in jsonfiles:\n",
    "    df = json_to_message(file)\n",
    "    frame.append(df)\n",
    "df = pd.concat(frame)"
   ]
  },
  {
   "cell_type": "code",
   "execution_count": 138,
   "metadata": {},
   "outputs": [],
   "source": [
    "# n_total=0\n",
    "# n_content =0\n",
    "# n_time=0\n",
    "# for msg in data['messages']:\n",
    "#     n_total +=1\n",
    "#     print(datetime.date.fromtimestamp(msg['timestamp_ms']/1000),\n",
    "#     \"\\n ---\")\n",
    "#     try:\n",
    "#         print(msg['content'].encode('latin1').decode('utf8'))\n",
    "#         n_content +=1\n",
    "\n",
    "#     except:\n",
    "#         pass\n",
    "    "
   ]
  },
  {
   "cell_type": "code",
   "execution_count": 139,
   "metadata": {},
   "outputs": [],
   "source": []
  },
  {
   "cell_type": "code",
   "execution_count": 158,
   "metadata": {},
   "outputs": [
    {
     "data": {
      "text/html": [
       "<div>\n",
       "<style scoped>\n",
       "    .dataframe tbody tr th:only-of-type {\n",
       "        vertical-align: middle;\n",
       "    }\n",
       "\n",
       "    .dataframe tbody tr th {\n",
       "        vertical-align: top;\n",
       "    }\n",
       "\n",
       "    .dataframe thead th {\n",
       "        text-align: right;\n",
       "    }\n",
       "</style>\n",
       "<table border=\"1\" class=\"dataframe\">\n",
       "  <thead>\n",
       "    <tr style=\"text-align: right;\">\n",
       "      <th></th>\n",
       "      <th>sender_name</th>\n",
       "      <th>timestamp_ms</th>\n",
       "      <th>content</th>\n",
       "    </tr>\n",
       "  </thead>\n",
       "  <tbody>\n",
       "    <tr>\n",
       "      <th>4</th>\n",
       "      <td>user1</td>\n",
       "      <td>2021-01-18</td>\n",
       "      <td>trời oiiiiiiii món này sinh ra từ khi nào vậy ...</td>\n",
       "    </tr>\n",
       "    <tr>\n",
       "      <th>3</th>\n",
       "      <td>user1</td>\n",
       "      <td>2021-01-19</td>\n",
       "      <td>nan</td>\n",
       "    </tr>\n",
       "    <tr>\n",
       "      <th>2</th>\n",
       "      <td>user1</td>\n",
       "      <td>2021-01-19</td>\n",
       "      <td>hixx</td>\n",
       "    </tr>\n",
       "    <tr>\n",
       "      <th>1</th>\n",
       "      <td>user2</td>\n",
       "      <td>2021-01-19</td>\n",
       "      <td>full of sugar, bad fo ya</td>\n",
       "    </tr>\n",
       "    <tr>\n",
       "      <th>0</th>\n",
       "      <td>user1</td>\n",
       "      <td>2021-01-19</td>\n",
       "      <td>a whole cube of joy, very good fo ya =))</td>\n",
       "    </tr>\n",
       "  </tbody>\n",
       "</table>\n",
       "</div>"
      ],
      "text/plain": [
       "  sender_name timestamp_ms                                            content\n",
       "4       user1   2021-01-18  trời oiiiiiiii món này sinh ra từ khi nào vậy ...\n",
       "3       user1   2021-01-19                                                nan\n",
       "2       user1   2021-01-19                                               hixx\n",
       "1       user2   2021-01-19                           full of sugar, bad fo ya\n",
       "0       user1   2021-01-19           a whole cube of joy, very good fo ya =))"
      ]
     },
     "execution_count": 158,
     "metadata": {},
     "output_type": "execute_result"
    }
   ],
   "source": [
    "df[['sender_name','timestamp_ms','content']].sort_values('timestamp_ms').tail()"
   ]
  },
  {
   "cell_type": "code",
   "execution_count": 141,
   "metadata": {},
   "outputs": [],
   "source": [
    "# bin data by month: sending frequencies, sending frequencies by senders, top few words "
   ]
  },
  {
   "cell_type": "code",
   "execution_count": 142,
   "metadata": {},
   "outputs": [
    {
     "data": {
      "text/html": [
       "<div>\n",
       "<style scoped>\n",
       "    .dataframe tbody tr th:only-of-type {\n",
       "        vertical-align: middle;\n",
       "    }\n",
       "\n",
       "    .dataframe tbody tr th {\n",
       "        vertical-align: top;\n",
       "    }\n",
       "\n",
       "    .dataframe thead th {\n",
       "        text-align: right;\n",
       "    }\n",
       "</style>\n",
       "<table border=\"1\" class=\"dataframe\">\n",
       "  <thead>\n",
       "    <tr style=\"text-align: right;\">\n",
       "      <th></th>\n",
       "      <th>sender_name</th>\n",
       "      <th>sticker</th>\n",
       "      <th>messages</th>\n",
       "      <th>reactions</th>\n",
       "    </tr>\n",
       "  </thead>\n",
       "  <tbody>\n",
       "    <tr>\n",
       "      <th>0</th>\n",
       "      <td>user1</td>\n",
       "      <td>1237</td>\n",
       "      <td>19098</td>\n",
       "      <td>5704</td>\n",
       "    </tr>\n",
       "    <tr>\n",
       "      <th>1</th>\n",
       "      <td>user4</td>\n",
       "      <td>40</td>\n",
       "      <td>18634</td>\n",
       "      <td>3814</td>\n",
       "    </tr>\n",
       "    <tr>\n",
       "      <th>2</th>\n",
       "      <td>user8</td>\n",
       "      <td>4</td>\n",
       "      <td>8548</td>\n",
       "      <td>1879</td>\n",
       "    </tr>\n",
       "    <tr>\n",
       "      <th>3</th>\n",
       "      <td>user7</td>\n",
       "      <td>336</td>\n",
       "      <td>6742</td>\n",
       "      <td>1167</td>\n",
       "    </tr>\n",
       "    <tr>\n",
       "      <th>4</th>\n",
       "      <td>user3</td>\n",
       "      <td>244</td>\n",
       "      <td>6114</td>\n",
       "      <td>1748</td>\n",
       "    </tr>\n",
       "    <tr>\n",
       "      <th>5</th>\n",
       "      <td>user2</td>\n",
       "      <td>14</td>\n",
       "      <td>6077</td>\n",
       "      <td>2318</td>\n",
       "    </tr>\n",
       "    <tr>\n",
       "      <th>6</th>\n",
       "      <td>user13</td>\n",
       "      <td>99</td>\n",
       "      <td>5914</td>\n",
       "      <td>1770</td>\n",
       "    </tr>\n",
       "    <tr>\n",
       "      <th>7</th>\n",
       "      <td>user9</td>\n",
       "      <td>2</td>\n",
       "      <td>3555</td>\n",
       "      <td>1248</td>\n",
       "    </tr>\n",
       "    <tr>\n",
       "      <th>8</th>\n",
       "      <td>user5</td>\n",
       "      <td>20</td>\n",
       "      <td>3529</td>\n",
       "      <td>962</td>\n",
       "    </tr>\n",
       "    <tr>\n",
       "      <th>9</th>\n",
       "      <td>user11</td>\n",
       "      <td>6</td>\n",
       "      <td>2252</td>\n",
       "      <td>644</td>\n",
       "    </tr>\n",
       "    <tr>\n",
       "      <th>10</th>\n",
       "      <td>user12</td>\n",
       "      <td>2</td>\n",
       "      <td>2040</td>\n",
       "      <td>734</td>\n",
       "    </tr>\n",
       "    <tr>\n",
       "      <th>11</th>\n",
       "      <td>user6</td>\n",
       "      <td>18</td>\n",
       "      <td>1741</td>\n",
       "      <td>544</td>\n",
       "    </tr>\n",
       "    <tr>\n",
       "      <th>12</th>\n",
       "      <td>user10</td>\n",
       "      <td>0</td>\n",
       "      <td>1289</td>\n",
       "      <td>597</td>\n",
       "    </tr>\n",
       "    <tr>\n",
       "      <th>13</th>\n",
       "      <td>user14</td>\n",
       "      <td>0</td>\n",
       "      <td>10</td>\n",
       "      <td>5</td>\n",
       "    </tr>\n",
       "  </tbody>\n",
       "</table>\n",
       "</div>"
      ],
      "text/plain": [
       "   sender_name  sticker  messages  reactions\n",
       "0        user1     1237     19098       5704\n",
       "1        user4       40     18634       3814\n",
       "2        user8        4      8548       1879\n",
       "3        user7      336      6742       1167\n",
       "4        user3      244      6114       1748\n",
       "5        user2       14      6077       2318\n",
       "6       user13       99      5914       1770\n",
       "7        user9        2      3555       1248\n",
       "8        user5       20      3529        962\n",
       "9       user11        6      2252        644\n",
       "10      user12        2      2040        734\n",
       "11       user6       18      1741        544\n",
       "12      user10        0      1289        597\n",
       "13      user14        0        10          5"
      ]
     },
     "execution_count": 142,
     "metadata": {},
     "output_type": "execute_result"
    }
   ],
   "source": [
    "# who send the most messages?\n",
    "df.groupby('sender_name').count().reset_index().sort_values('content',ascending=False)\\\n",
    "[['sender_name','sticker','content','reactions']].rename(columns={'content':'messages'}).reset_index(drop=True)"
   ]
  },
  {
   "cell_type": "code",
   "execution_count": 143,
   "metadata": {},
   "outputs": [
    {
     "name": "stderr",
     "output_type": "stream",
     "text": [
      "<ipython-input-143-5eefcfbf9272>:3: SettingWithCopyWarning: \n",
      "A value is trying to be set on a copy of a slice from a DataFrame.\n",
      "Try using .loc[row_indexer,col_indexer] = value instead\n",
      "\n",
      "See the caveats in the documentation: https://pandas.pydata.org/pandas-docs/stable/user_guide/indexing.html#returning-a-view-versus-a-copy\n",
      "  df_by_month['month'] = df_by_month.timestamp_ms.\\\n"
     ]
    }
   ],
   "source": [
    "df_by_month = df[['sender_name','timestamp_ms','content']]\n",
    "\n",
    "df_by_month['month'] = df_by_month.timestamp_ms.\\\n",
    "apply(lambda x: datetime.datetime(x.year, x.month, 1))\n"
   ]
  },
  {
   "cell_type": "code",
   "execution_count": 144,
   "metadata": {},
   "outputs": [
    {
     "data": {
      "text/html": [
       "<div>\n",
       "<style scoped>\n",
       "    .dataframe tbody tr th:only-of-type {\n",
       "        vertical-align: middle;\n",
       "    }\n",
       "\n",
       "    .dataframe tbody tr th {\n",
       "        vertical-align: top;\n",
       "    }\n",
       "\n",
       "    .dataframe thead th {\n",
       "        text-align: right;\n",
       "    }\n",
       "</style>\n",
       "<table border=\"1\" class=\"dataframe\">\n",
       "  <thead>\n",
       "    <tr style=\"text-align: right;\">\n",
       "      <th></th>\n",
       "      <th>sender_name</th>\n",
       "      <th>timestamp_ms</th>\n",
       "      <th>content</th>\n",
       "      <th>month</th>\n",
       "    </tr>\n",
       "  </thead>\n",
       "  <tbody>\n",
       "    <tr>\n",
       "      <th>0</th>\n",
       "      <td>user1</td>\n",
       "      <td>2021-01-19</td>\n",
       "      <td>a whole cube of joy, very good fo ya =))</td>\n",
       "      <td>2021-01-01</td>\n",
       "    </tr>\n",
       "    <tr>\n",
       "      <th>1</th>\n",
       "      <td>user2</td>\n",
       "      <td>2021-01-19</td>\n",
       "      <td>full of sugar, bad fo ya</td>\n",
       "      <td>2021-01-01</td>\n",
       "    </tr>\n",
       "    <tr>\n",
       "      <th>2</th>\n",
       "      <td>user1</td>\n",
       "      <td>2021-01-19</td>\n",
       "      <td>hixx</td>\n",
       "      <td>2021-01-01</td>\n",
       "    </tr>\n",
       "    <tr>\n",
       "      <th>3</th>\n",
       "      <td>user1</td>\n",
       "      <td>2021-01-19</td>\n",
       "      <td>nan</td>\n",
       "      <td>2021-01-01</td>\n",
       "    </tr>\n",
       "    <tr>\n",
       "      <th>4</th>\n",
       "      <td>user1</td>\n",
       "      <td>2021-01-18</td>\n",
       "      <td>trời oiiiiiiii món này sinh ra từ khi nào vậy ...</td>\n",
       "      <td>2021-01-01</td>\n",
       "    </tr>\n",
       "    <tr>\n",
       "      <th>5</th>\n",
       "      <td>user1</td>\n",
       "      <td>2021-01-18</td>\n",
       "      <td>mấy anh chị em tránh xa mấy nơi manh động nha!!</td>\n",
       "      <td>2021-01-01</td>\n",
       "    </tr>\n",
       "    <tr>\n",
       "      <th>6</th>\n",
       "      <td>user1</td>\n",
       "      <td>2021-01-18</td>\n",
       "      <td>trời mà nhắc mới nhớ, hị hị bảo sao 3h sáng đê...</td>\n",
       "      <td>2021-01-01</td>\n",
       "    </tr>\n",
       "    <tr>\n",
       "      <th>7</th>\n",
       "      <td>user2</td>\n",
       "      <td>2021-01-18</td>\n",
       "      <td>2 more days of Trump! Wed có thể sẽ thú vị he he.</td>\n",
       "      <td>2021-01-01</td>\n",
       "    </tr>\n",
       "    <tr>\n",
       "      <th>8</th>\n",
       "      <td>user3</td>\n",
       "      <td>2021-01-16</td>\n",
       "      <td>Dạ nó thực ra ko tốn nhiều thgian. Chẳng qua k...</td>\n",
       "      <td>2021-01-01</td>\n",
       "    </tr>\n",
       "    <tr>\n",
       "      <th>9</th>\n",
       "      <td>user4</td>\n",
       "      <td>2021-01-16</td>\n",
       "      <td>Same here. Đợt nào làm k ra lad xuống kí liền....</td>\n",
       "      <td>2021-01-01</td>\n",
       "    </tr>\n",
       "  </tbody>\n",
       "</table>\n",
       "</div>"
      ],
      "text/plain": [
       "  sender_name timestamp_ms                                            content  \\\n",
       "0       user1   2021-01-19           a whole cube of joy, very good fo ya =))   \n",
       "1       user2   2021-01-19                           full of sugar, bad fo ya   \n",
       "2       user1   2021-01-19                                               hixx   \n",
       "3       user1   2021-01-19                                                nan   \n",
       "4       user1   2021-01-18  trời oiiiiiiii món này sinh ra từ khi nào vậy ...   \n",
       "5       user1   2021-01-18    mấy anh chị em tránh xa mấy nơi manh động nha!!   \n",
       "6       user1   2021-01-18  trời mà nhắc mới nhớ, hị hị bảo sao 3h sáng đê...   \n",
       "7       user2   2021-01-18  2 more days of Trump! Wed có thể sẽ thú vị he he.   \n",
       "8       user3   2021-01-16  Dạ nó thực ra ko tốn nhiều thgian. Chẳng qua k...   \n",
       "9       user4   2021-01-16  Same here. Đợt nào làm k ra lad xuống kí liền....   \n",
       "\n",
       "       month  \n",
       "0 2021-01-01  \n",
       "1 2021-01-01  \n",
       "2 2021-01-01  \n",
       "3 2021-01-01  \n",
       "4 2021-01-01  \n",
       "5 2021-01-01  \n",
       "6 2021-01-01  \n",
       "7 2021-01-01  \n",
       "8 2021-01-01  \n",
       "9 2021-01-01  "
      ]
     },
     "execution_count": 144,
     "metadata": {},
     "output_type": "execute_result"
    }
   ],
   "source": [
    "df_by_month.head(10)"
   ]
  },
  {
   "cell_type": "code",
   "execution_count": 145,
   "metadata": {},
   "outputs": [
    {
     "data": {
      "text/plain": [
       "(444, 2)"
      ]
     },
     "execution_count": 145,
     "metadata": {},
     "output_type": "execute_result"
    }
   ],
   "source": [
    "msg_per_day=df_by_month[['sender_name','timestamp_ms','month']]\n",
    "# remove the last month manually\n",
    "msg_per_day=msg_per_day[msg_per_day.month != datetime.datetime(2021,1,1)]\n",
    "msg_per_day=msg_per_day[['sender_name','timestamp_ms']].groupby(['timestamp_ms']).\\\n",
    "count().reset_index().rename(columns={\"sender_name\":\"msg_num\"})\n",
    "msg_per_day.shape"
   ]
  },
  {
   "cell_type": "code",
   "execution_count": 146,
   "metadata": {},
   "outputs": [
    {
     "data": {
      "text/plain": [
       "443    2020-12-28\n",
       "Name: timestamp_ms, dtype: object"
      ]
     },
     "execution_count": 146,
     "metadata": {},
     "output_type": "execute_result"
    }
   ],
   "source": [
    "msg_per_day.timestamp_ms.iloc[-1:]"
   ]
  },
  {
   "cell_type": "code",
   "execution_count": null,
   "metadata": {},
   "outputs": [],
   "source": []
  },
  {
   "cell_type": "code",
   "execution_count": 147,
   "metadata": {},
   "outputs": [
    {
     "name": "stderr",
     "output_type": "stream",
     "text": [
      "findfont: Font family ['Segoe UI Emoji'] not found. Falling back to DejaVu Sans.\n"
     ]
    },
    {
     "data": {
      "image/png": "[encoded data removed]",
      "text/plain": [
       "<Figure size 560x560 with 2 Axes>"
      ]
     },
     "metadata": {},
     "output_type": "display_data"
    }
   ],
   "source": [
    "# plot senders by month\n",
    "# iterate sender names, plot content vs time\n",
    "from cycler import cycler\n",
    "# list of names\n",
    "names=df_by_month.sender_name.unique()\n",
    "names=names[names != 'user14']\n",
    "\n",
    "months=df_by_month[df_by_month.sender_name=='user2'].\\\n",
    "    groupby('month').count().reset_index().month\n",
    "# tickmark time\n",
    "timemarks=[str(x.month) +'-'+ str(x.year-2000) for x in months]\n",
    "\n",
    "\n",
    "fig,axes = plt.subplots(nrows=2, ncols=1, figsize=(7, 7), dpi=80, facecolor='w', edgecolor='k')\n",
    "ax, ax2 = axes.flatten()\n",
    "\n",
    "colorcycle = cycler('color', ['blue', 'green', 'red', 'cyan', 'magenta',  'black', 'purple',\n",
    "                                    'orange', 'teal',  'lime', \n",
    "                                    'turquoise', 'tan', 'salmon', 'gold'])\n",
    "ax.set_prop_cycle(colorcycle)\n",
    "\n",
    "# plot by month, drop last month\n",
    "for name in names:\n",
    "    xx= df_by_month[df_by_month.sender_name==name].\\\n",
    "    groupby('month').count().reset_index() # sender vs number of messages\n",
    "    \n",
    "    ax.plot(xx.month.iloc[:-1],xx.content.iloc[:-1],'--',label=name.split()[0])\n",
    "    \n",
    "\n",
    "# ax.legend(frameon=False, bbox_to_anchor=(0., 1.1, 1., .102), loc='lower left',\n",
    "#                ncol=3, mode=\"expand\", borderaxespad=0.)\n",
    "ax.legend(frameon=False, loc='upper right',\n",
    "               ncol=2)\n",
    "ax.set_prop_cycle(colorcycle)\n",
    "#plt.yscale('log')\n",
    "\n",
    "\n",
    "ax.set_ylabel('montly number of messages by sender')\n",
    "ax.set_xlabel('time')\n",
    "ax.set_xticklabels(timemarks[:-1][0::2])\n",
    "#ax2 = ax.twinx()  # instantiate a second axes that shares the same x-axis\n",
    "\n",
    "color = 'tab:blue'\n",
    "ax2.set_ylabel(' daily total', color=color)  # we already handled the x-label with ax1\n",
    "ax2.plot(msg_per_day.timestamp_ms, msg_per_day.msg_num, '-',color=color)\n",
    "ax2.tick_params(axis='y', labelcolor=color)\n",
    "ax2.set_xticks(msg_per_day.timestamp_ms[::len(msg_per_day.timestamp_ms)-1])\n",
    "ax2.set_xticklabels(msg_per_day.timestamp_ms[::len(msg_per_day.timestamp_ms)-1])\n",
    "#ax2.set_xticklabels(msg_per_day.timestamp_ms.apply(lambda x:str(x.day)+'-'+ str(x.month))[0::30])\n",
    "\n",
    "fig.tight_layout()  # otherwise the right y-label is slightly clipped"
   ]
  },
  {
   "cell_type": "code",
   "execution_count": null,
   "metadata": {},
   "outputs": [],
   "source": []
  },
  {
   "cell_type": "code",
   "execution_count": 148,
   "metadata": {},
   "outputs": [
    {
     "data": {
      "text/html": [
       "<div>\n",
       "<style scoped>\n",
       "    .dataframe tbody tr th:only-of-type {\n",
       "        vertical-align: middle;\n",
       "    }\n",
       "\n",
       "    .dataframe tbody tr th {\n",
       "        vertical-align: top;\n",
       "    }\n",
       "\n",
       "    .dataframe thead th {\n",
       "        text-align: right;\n",
       "    }\n",
       "</style>\n",
       "<table border=\"1\" class=\"dataframe\">\n",
       "  <thead>\n",
       "    <tr style=\"text-align: right;\">\n",
       "      <th></th>\n",
       "      <th>month</th>\n",
       "      <th>content</th>\n",
       "    </tr>\n",
       "  </thead>\n",
       "  <tbody>\n",
       "    <tr>\n",
       "      <th>0</th>\n",
       "      <td>2021-01-01</td>\n",
       "      <td>a whole cube of joy, very good fo ya =))</td>\n",
       "    </tr>\n",
       "    <tr>\n",
       "      <th>1</th>\n",
       "      <td>2021-01-01</td>\n",
       "      <td>full of sugar, bad fo ya</td>\n",
       "    </tr>\n",
       "    <tr>\n",
       "      <th>2</th>\n",
       "      <td>2021-01-01</td>\n",
       "      <td>hixx</td>\n",
       "    </tr>\n",
       "    <tr>\n",
       "      <th>3</th>\n",
       "      <td>2021-01-01</td>\n",
       "      <td>nan</td>\n",
       "    </tr>\n",
       "    <tr>\n",
       "      <th>4</th>\n",
       "      <td>2021-01-01</td>\n",
       "      <td>trời oiiiiiiii món này sinh ra từ khi nào vậy ...</td>\n",
       "    </tr>\n",
       "  </tbody>\n",
       "</table>\n",
       "</div>"
      ],
      "text/plain": [
       "       month                                            content\n",
       "0 2021-01-01           a whole cube of joy, very good fo ya =))\n",
       "1 2021-01-01                           full of sugar, bad fo ya\n",
       "2 2021-01-01                                               hixx\n",
       "3 2021-01-01                                                nan\n",
       "4 2021-01-01  trời oiiiiiiii món này sinh ra từ khi nào vậy ..."
      ]
     },
     "execution_count": 148,
     "metadata": {},
     "output_type": "execute_result"
    }
   ],
   "source": [
    "time_content= df_by_month[['month','content']]\n",
    "time_content.head()"
   ]
  },
  {
   "cell_type": "markdown",
   "metadata": {},
   "source": [
    "transform will act on the group, but return the same number of rows"
   ]
  },
  {
   "cell_type": "code",
   "execution_count": 149,
   "metadata": {},
   "outputs": [
    {
     "name": "stderr",
     "output_type": "stream",
     "text": [
      "/Users/qmn203/opt/anaconda3/lib/python3.8/site-packages/pandas/core/generic.py:5303: SettingWithCopyWarning: \n",
      "A value is trying to be set on a copy of a slice from a DataFrame.\n",
      "Try using .loc[row_indexer,col_indexer] = value instead\n",
      "\n",
      "See the caveats in the documentation: https://pandas.pydata.org/pandas-docs/stable/user_guide/indexing.html#returning-a-view-versus-a-copy\n",
      "  self[name] = value\n"
     ]
    }
   ],
   "source": [
    "time_content.content =time_content.groupby('month')['content'].transform(lambda x: \",\".join(x))"
   ]
  },
  {
   "cell_type": "code",
   "execution_count": 150,
   "metadata": {},
   "outputs": [
    {
     "data": {
      "text/html": [
       "<div>\n",
       "<style scoped>\n",
       "    .dataframe tbody tr th:only-of-type {\n",
       "        vertical-align: middle;\n",
       "    }\n",
       "\n",
       "    .dataframe tbody tr th {\n",
       "        vertical-align: top;\n",
       "    }\n",
       "\n",
       "    .dataframe thead th {\n",
       "        text-align: right;\n",
       "    }\n",
       "</style>\n",
       "<table border=\"1\" class=\"dataframe\">\n",
       "  <thead>\n",
       "    <tr style=\"text-align: right;\">\n",
       "      <th></th>\n",
       "      <th>month</th>\n",
       "      <th>content</th>\n",
       "    </tr>\n",
       "  </thead>\n",
       "  <tbody>\n",
       "    <tr>\n",
       "      <th>0</th>\n",
       "      <td>2021-01-01</td>\n",
       "      <td>a whole cube of joy, very good fo ya =)),full ...</td>\n",
       "    </tr>\n",
       "    <tr>\n",
       "      <th>1</th>\n",
       "      <td>2021-01-01</td>\n",
       "      <td>a whole cube of joy, very good fo ya =)),full ...</td>\n",
       "    </tr>\n",
       "    <tr>\n",
       "      <th>2</th>\n",
       "      <td>2021-01-01</td>\n",
       "      <td>a whole cube of joy, very good fo ya =)),full ...</td>\n",
       "    </tr>\n",
       "    <tr>\n",
       "      <th>3</th>\n",
       "      <td>2021-01-01</td>\n",
       "      <td>a whole cube of joy, very good fo ya =)),full ...</td>\n",
       "    </tr>\n",
       "    <tr>\n",
       "      <th>4</th>\n",
       "      <td>2021-01-01</td>\n",
       "      <td>a whole cube of joy, very good fo ya =)),full ...</td>\n",
       "    </tr>\n",
       "  </tbody>\n",
       "</table>\n",
       "</div>"
      ],
      "text/plain": [
       "       month                                            content\n",
       "0 2021-01-01  a whole cube of joy, very good fo ya =)),full ...\n",
       "1 2021-01-01  a whole cube of joy, very good fo ya =)),full ...\n",
       "2 2021-01-01  a whole cube of joy, very good fo ya =)),full ...\n",
       "3 2021-01-01  a whole cube of joy, very good fo ya =)),full ...\n",
       "4 2021-01-01  a whole cube of joy, very good fo ya =)),full ..."
      ]
     },
     "execution_count": 150,
     "metadata": {},
     "output_type": "execute_result"
    }
   ],
   "source": [
    "time_content.head()"
   ]
  },
  {
   "cell_type": "code",
   "execution_count": 151,
   "metadata": {},
   "outputs": [
    {
     "data": {
      "text/plain": [
       "(19,)"
      ]
     },
     "execution_count": 151,
     "metadata": {},
     "output_type": "execute_result"
    }
   ],
   "source": [
    "monthly=time_content.content.drop_duplicates()\n",
    "monthly.shape"
   ]
  },
  {
   "cell_type": "code",
   "execution_count": null,
   "metadata": {},
   "outputs": [],
   "source": []
  },
  {
   "cell_type": "code",
   "execution_count": 152,
   "metadata": {},
   "outputs": [
    {
     "data": {
      "text/plain": [
       "Index(['😂', '😅', '😇', '😉', '😳', '😆', '😜', '😕', '😍', 'ngủ', 'stock'], dtype='object')"
      ]
     },
     "execution_count": 152,
     "metadata": {},
     "output_type": "execute_result"
    }
   ],
   "source": [
    "import collections\n",
    "#table=pd.DataFrame({'tiền':[],'yêu':[], 'gái':[], 'ăn':[], 'chơi':[],'học':[]})\n",
    "table=pd.DataFrame({'😂':[],'😅':[], '😇':[],'😉':[],\n",
    "                    '😳':[],'😆':[],'😜':[],'😕':[],'😍':[],'ngủ':[],'stock':[]})\n",
    "table.columns"
   ]
  },
  {
   "cell_type": "code",
   "execution_count": 153,
   "metadata": {},
   "outputs": [],
   "source": [
    "lol=[]\n",
    "\n",
    "for mo in monthly.iloc[:-1]:\n",
    "    splitt = mo.lower().split()\n",
    "    ll=[]\n",
    "    for word in table.columns:\n",
    "        ll.append(collections.Counter(splitt)[word]/len(splitt))\n",
    "        #print(collections.Counter(split).most_common(100))\n",
    "    lol.append(ll)\n",
    "\n",
    "table=table.append(pd.DataFrame(lol,columns = table.columns))\n",
    "    "
   ]
  },
  {
   "cell_type": "code",
   "execution_count": 154,
   "metadata": {},
   "outputs": [
    {
     "data": {
      "text/html": [
       "<div>\n",
       "<style scoped>\n",
       "    .dataframe tbody tr th:only-of-type {\n",
       "        vertical-align: middle;\n",
       "    }\n",
       "\n",
       "    .dataframe tbody tr th {\n",
       "        vertical-align: top;\n",
       "    }\n",
       "\n",
       "    .dataframe thead th {\n",
       "        text-align: right;\n",
       "    }\n",
       "</style>\n",
       "<table border=\"1\" class=\"dataframe\">\n",
       "  <thead>\n",
       "    <tr style=\"text-align: right;\">\n",
       "      <th></th>\n",
       "      <th>😂</th>\n",
       "      <th>😅</th>\n",
       "      <th>😇</th>\n",
       "      <th>😉</th>\n",
       "      <th>😳</th>\n",
       "      <th>😆</th>\n",
       "      <th>😜</th>\n",
       "      <th>😕</th>\n",
       "      <th>😍</th>\n",
       "      <th>ngủ</th>\n",
       "      <th>stock</th>\n",
       "    </tr>\n",
       "  </thead>\n",
       "  <tbody>\n",
       "    <tr>\n",
       "      <th>0</th>\n",
       "      <td>0.000000</td>\n",
       "      <td>0.000000</td>\n",
       "      <td>0.0</td>\n",
       "      <td>0.0</td>\n",
       "      <td>0.0</td>\n",
       "      <td>0.0</td>\n",
       "      <td>0.0</td>\n",
       "      <td>0.0</td>\n",
       "      <td>0.000227</td>\n",
       "      <td>0.000227</td>\n",
       "      <td>0.000907</td>\n",
       "    </tr>\n",
       "    <tr>\n",
       "      <th>1</th>\n",
       "      <td>0.000396</td>\n",
       "      <td>0.000132</td>\n",
       "      <td>0.0</td>\n",
       "      <td>0.0</td>\n",
       "      <td>0.0</td>\n",
       "      <td>0.0</td>\n",
       "      <td>0.0</td>\n",
       "      <td>0.0</td>\n",
       "      <td>0.000000</td>\n",
       "      <td>0.000000</td>\n",
       "      <td>0.000000</td>\n",
       "    </tr>\n",
       "    <tr>\n",
       "      <th>2</th>\n",
       "      <td>0.000241</td>\n",
       "      <td>0.000060</td>\n",
       "      <td>0.0</td>\n",
       "      <td>0.0</td>\n",
       "      <td>0.0</td>\n",
       "      <td>0.0</td>\n",
       "      <td>0.0</td>\n",
       "      <td>0.0</td>\n",
       "      <td>0.000000</td>\n",
       "      <td>0.000120</td>\n",
       "      <td>0.000962</td>\n",
       "    </tr>\n",
       "    <tr>\n",
       "      <th>3</th>\n",
       "      <td>0.000371</td>\n",
       "      <td>0.000186</td>\n",
       "      <td>0.0</td>\n",
       "      <td>0.0</td>\n",
       "      <td>0.0</td>\n",
       "      <td>0.0</td>\n",
       "      <td>0.0</td>\n",
       "      <td>0.0</td>\n",
       "      <td>0.000000</td>\n",
       "      <td>0.001486</td>\n",
       "      <td>0.000371</td>\n",
       "    </tr>\n",
       "    <tr>\n",
       "      <th>4</th>\n",
       "      <td>0.000294</td>\n",
       "      <td>0.000000</td>\n",
       "      <td>0.0</td>\n",
       "      <td>0.0</td>\n",
       "      <td>0.0</td>\n",
       "      <td>0.0</td>\n",
       "      <td>0.0</td>\n",
       "      <td>0.0</td>\n",
       "      <td>0.000000</td>\n",
       "      <td>0.000294</td>\n",
       "      <td>0.002204</td>\n",
       "    </tr>\n",
       "  </tbody>\n",
       "</table>\n",
       "</div>"
      ],
      "text/plain": [
       "          😂         😅    😇    😉    😳    😆    😜    😕         😍       ngủ  \\\n",
       "0  0.000000  0.000000  0.0  0.0  0.0  0.0  0.0  0.0  0.000227  0.000227   \n",
       "1  0.000396  0.000132  0.0  0.0  0.0  0.0  0.0  0.0  0.000000  0.000000   \n",
       "2  0.000241  0.000060  0.0  0.0  0.0  0.0  0.0  0.0  0.000000  0.000120   \n",
       "3  0.000371  0.000186  0.0  0.0  0.0  0.0  0.0  0.0  0.000000  0.001486   \n",
       "4  0.000294  0.000000  0.0  0.0  0.0  0.0  0.0  0.0  0.000000  0.000294   \n",
       "\n",
       "      stock  \n",
       "0  0.000907  \n",
       "1  0.000000  \n",
       "2  0.000962  \n",
       "3  0.000371  \n",
       "4  0.002204  "
      ]
     },
     "execution_count": 154,
     "metadata": {},
     "output_type": "execute_result"
    }
   ],
   "source": [
    "table.head()"
   ]
  },
  {
   "cell_type": "code",
   "execution_count": 155,
   "metadata": {},
   "outputs": [
    {
     "data": {
      "text/plain": [
       "0    2019-07-01\n",
       "1    2019-08-01\n",
       "2    2019-09-01\n",
       "3    2019-10-01\n",
       "4    2019-11-01\n",
       "5    2019-12-01\n",
       "6    2020-01-01\n",
       "7    2020-02-01\n",
       "8    2020-03-01\n",
       "9    2020-04-01\n",
       "10   2020-05-01\n",
       "11   2020-06-01\n",
       "12   2020-07-01\n",
       "13   2020-08-01\n",
       "14   2020-09-01\n",
       "15   2020-10-01\n",
       "16   2020-11-01\n",
       "17   2020-12-01\n",
       "18   2021-01-01\n",
       "Name: month, dtype: datetime64[ns]"
      ]
     },
     "execution_count": 155,
     "metadata": {},
     "output_type": "execute_result"
    }
   ],
   "source": [
    "months"
   ]
  },
  {
   "cell_type": "code",
   "execution_count": 156,
   "metadata": {},
   "outputs": [],
   "source": [
    "\n",
    "mpl.rc('font',size=20)"
   ]
  },
  {
   "cell_type": "code",
   "execution_count": 157,
   "metadata": {},
   "outputs": [
    {
     "data": {
      "text/plain": [
       "Text(0.5, 1.0, 'some common emoticons')"
      ]
     },
     "execution_count": 157,
     "metadata": {},
     "output_type": "execute_result"
    },
    {
     "data": {
      "image/png": "[encoded data removed]",
      "text/plain": [
       "<Figure size 504x504 with 1 Axes>"
      ]
     },
     "metadata": {
      "needs_background": "light"
     },
     "output_type": "display_data"
    }
   ],
   "source": [
    "fig,ax = plt.subplots(figsize=(7, 7))\n",
    "ax.set_prop_cycle(colorcycle)\n",
    "for word in table.columns:\n",
    "    plt.plot(months.iloc[:-1], table[word],'--',label= str(word) )\n",
    "    \n",
    "# ax.legend(frameon=False, bbox_to_anchor=(0., 1.1, 1., .102), loc='lower left',\n",
    "#                ncol=3, mode=\"expand\", borderaxespad=0.)\n",
    "ax.legend(frameon=False, loc='upper right',\n",
    "               ncol=2, )\n",
    "#plt.yscale('log')\n",
    "\n",
    "ax.set_xticklabels([x.split('-')[0] for x in timemarks][0::2])\n",
    "ax.set_ylabel('relative frequency')\n",
    "ax.set_xlabel('month')\n",
    "ax.set_title('some common emoticons')"
   ]
  },
  {
   "cell_type": "code",
   "execution_count": null,
   "metadata": {},
   "outputs": [],
   "source": []
  },
  {
   "cell_type": "code",
   "execution_count": null,
   "metadata": {},
   "outputs": [],
   "source": []
  }
 ],
 "metadata": {
  "kernelspec": {
   "display_name": "Python 3",
   "language": "python",
   "name": "python3"
  },
  "language_info": {
   "codemirror_mode": {
    "name": "ipython",
    "version": 3
   },
   "file_extension": ".py",
   "mimetype": "text/x-python",
   "name": "python",
   "nbconvert_exporter": "python",
   "pygments_lexer": "ipython3",
   "version": "3.8.3"
  }
 },
 "nbformat": 4,
 "nbformat_minor": 4
}
