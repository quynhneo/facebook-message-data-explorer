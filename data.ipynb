{
 "cells": [
  {
   "cell_type": "code",
   "execution_count": 1403,
   "metadata": {},
   "outputs": [],
   "source": [
    "import os\n",
    "import glob\n",
    "import re\n",
    "import json\n",
    "import datetime\n",
    "import pandas as pd\n",
    "import matplotlib.pyplot as plt\n",
    "import numpy as np\n",
    "import matplotlib as mpl\n",
    "mpl.rc('font',size=10)"
   ]
  },
  {
   "cell_type": "code",
   "execution_count": 1404,
   "metadata": {},
   "outputs": [],
   "source": [
    "pd.set_option('display.max_rows', None)\n",
    "pd.set_option('display.max_columns', None)\n",
    "pd.set_option('display.width', None)"
   ]
  },
  {
   "cell_type": "code",
   "execution_count": 1405,
   "metadata": {},
   "outputs": [],
   "source": [
    "# method to download latest data directly from facebook?"
   ]
  },
  {
   "cell_type": "code",
   "execution_count": 1406,
   "metadata": {},
   "outputs": [],
   "source": [
    "\n",
    "# https://github.com/quynhneo/arxiv-public-datasets_for_kaggle/blob/master/arxiv_public_data/fulltext.py\n",
    "def sorted_files(globber: str):\n",
    "    \"\"\"\n",
    "    Give a globbing expression of files to find. They will be sorted upon\n",
    "    return.  This function is most useful when sorting does not provide\n",
    "    numerical order,\n",
    "    e.g.:\n",
    "        9 -> 12 returned as 10 11 12 9 by string sort\n",
    "    In this case use num_sort=True, and it will be sorted by numbers in the\n",
    "    string, then by the string itself.\n",
    "    Parameters\n",
    "    ----------\n",
    "    globber : str\n",
    "        Expression on which to search for files (bash glob expression)\n",
    "    \"\"\"\n",
    "    files = glob.glob(globber, recursive = True) # return a list of path, including sub directories\n",
    "    files.sort()\n",
    "\n",
    "    allfiles = []\n",
    "\n",
    "    for fn in files:\n",
    "        nums = re.findall(r'\\d+', fn) # regular expression, find number in path names\n",
    "        data = [str(int(n)) for n in nums] + [fn]\n",
    "        # a list of [first number, second number,..., filename] in string format otherwise sorted fill fail\n",
    "        allfiles.append(data) # list of list\n",
    "\n",
    "    allfiles = sorted(allfiles)\n",
    "    return [f[-1] for f in allfiles] # sorted filenames"
   ]
  },
  {
   "cell_type": "code",
   "execution_count": 1407,
   "metadata": {},
   "outputs": [],
   "source": [
    "path = 'roxanne_messages'\n",
    "globber = os.path.join(path, '*.json')\n",
    "jsonfiles = sorted_files(globber)"
   ]
  },
  {
   "cell_type": "code",
   "execution_count": null,
   "metadata": {},
   "outputs": [],
   "source": []
  },
  {
   "cell_type": "code",
   "execution_count": 1408,
   "metadata": {},
   "outputs": [],
   "source": [
    "def json_to_message(file):\n",
    "    \"\"\"load message to data frame, decode content and sender_name, convert time stamp to date\"\"\"\n",
    "    data = json.load(open(file,'r'))\n",
    "    df=pd.DataFrame(data['messages'])\n",
    "    df.content = df.content.apply(lambda x: str(x).encode('latin1').decode('utf8'))\n",
    "    df.sender_name = df.sender_name.apply(lambda x: str(x).encode('latin1').decode('utf8'))\n",
    "    df.timestamp_ms = df.timestamp_ms.apply(lambda x: datetime.date.fromtimestamp(x/1000) )\n",
    "    return df"
   ]
  },
  {
   "cell_type": "code",
   "execution_count": 1409,
   "metadata": {},
   "outputs": [],
   "source": [
    "# iterate list of files, load data into data frame, and join them\n",
    "frame =[]\n",
    "for file in jsonfiles:\n",
    "    df = json_to_message(file)\n",
    "    frame.append(df)\n",
    "df = pd.concat(frame)"
   ]
  },
  {
   "cell_type": "code",
   "execution_count": 1410,
   "metadata": {},
   "outputs": [],
   "source": [
    "# n_total=0\n",
    "# n_content =0\n",
    "# n_time=0\n",
    "# for msg in data['messages']:\n",
    "#     n_total +=1\n",
    "#     print(datetime.date.fromtimestamp(msg['timestamp_ms']/1000),\n",
    "#     \"\\n ---\")\n",
    "#     try:\n",
    "#         print(msg['content'].encode('latin1').decode('utf8'))\n",
    "#         n_content +=1\n",
    "\n",
    "#     except:\n",
    "#         pass\n",
    "    "
   ]
  },
  {
   "cell_type": "code",
   "execution_count": 1411,
   "metadata": {},
   "outputs": [],
   "source": [
    "# create generic names\n",
    "generic_names=pd.DataFrame(['user'+ str(i) for i in range(0,df.sender_name.unique().shape[0]+1) ])"
   ]
  },
  {
   "cell_type": "code",
   "execution_count": 1412,
   "metadata": {},
   "outputs": [],
   "source": [
    "# replace user names with generic names\n",
    "dictionary=dict(zip(list(df.sender_name.unique()),list(generic_names.iloc[:,0])))\n"
   ]
  },
  {
   "cell_type": "code",
   "execution_count": 1413,
   "metadata": {},
   "outputs": [
    {
     "data": {
      "text/plain": [
       "array(['user0', 'user1', 'user2', 'user3', 'user4', 'user5', 'user6',\n",
       "       'user7', 'user8', 'user9', 'user10', 'user11', 'user12', 'user13'],\n",
       "      dtype=object)"
      ]
     },
     "execution_count": 1413,
     "metadata": {},
     "output_type": "execute_result"
    }
   ],
   "source": [
    "df.sender_name.replace(dictionary,inplace=True)\n",
    "df.sender_name.unique()\n",
    "#df.sender_name=df.sender_name.apply(lambda x: \"\".join([name[0] for name in x.split()]) )"
   ]
  },
  {
   "cell_type": "code",
   "execution_count": 1414,
   "metadata": {},
   "outputs": [],
   "source": [
    "# will remove inactive user from data, active user (every month in data) will be used to get the month \n",
    "inactive_user='user13'\n",
    "active_user='user1'"
   ]
  },
  {
   "cell_type": "code",
   "execution_count": 1415,
   "metadata": {},
   "outputs": [
    {
     "data": {
      "text/html": [
       "<div>\n",
       "<style scoped>\n",
       "    .dataframe tbody tr th:only-of-type {\n",
       "        vertical-align: middle;\n",
       "    }\n",
       "\n",
       "    .dataframe tbody tr th {\n",
       "        vertical-align: top;\n",
       "    }\n",
       "\n",
       "    .dataframe thead th {\n",
       "        text-align: right;\n",
       "    }\n",
       "</style>\n",
       "<table border=\"1\" class=\"dataframe\">\n",
       "  <thead>\n",
       "    <tr style=\"text-align: right;\">\n",
       "      <th></th>\n",
       "      <th>sender_name</th>\n",
       "      <th>timestamp_ms</th>\n",
       "      <th>content</th>\n",
       "    </tr>\n",
       "  </thead>\n",
       "  <tbody>\n",
       "    <tr>\n",
       "      <th>4</th>\n",
       "      <td>user0</td>\n",
       "      <td>2021-01-18</td>\n",
       "      <td>trời oiiiiiiii món này sinh ra từ khi nào vậy ...</td>\n",
       "    </tr>\n",
       "    <tr>\n",
       "      <th>3</th>\n",
       "      <td>user0</td>\n",
       "      <td>2021-01-19</td>\n",
       "      <td>nan</td>\n",
       "    </tr>\n",
       "    <tr>\n",
       "      <th>2</th>\n",
       "      <td>user0</td>\n",
       "      <td>2021-01-19</td>\n",
       "      <td>hixx</td>\n",
       "    </tr>\n",
       "    <tr>\n",
       "      <th>1</th>\n",
       "      <td>user1</td>\n",
       "      <td>2021-01-19</td>\n",
       "      <td>full of sugar, bad fo ya</td>\n",
       "    </tr>\n",
       "    <tr>\n",
       "      <th>0</th>\n",
       "      <td>user0</td>\n",
       "      <td>2021-01-19</td>\n",
       "      <td>a whole cube of joy, very good fo ya =))</td>\n",
       "    </tr>\n",
       "  </tbody>\n",
       "</table>\n",
       "</div>"
      ],
      "text/plain": [
       "  sender_name timestamp_ms                                            content\n",
       "4       user0   2021-01-18  trời oiiiiiiii món này sinh ra từ khi nào vậy ...\n",
       "3       user0   2021-01-19                                                nan\n",
       "2       user0   2021-01-19                                               hixx\n",
       "1       user1   2021-01-19                           full of sugar, bad fo ya\n",
       "0       user0   2021-01-19           a whole cube of joy, very good fo ya =))"
      ]
     },
     "execution_count": 1415,
     "metadata": {},
     "output_type": "execute_result"
    }
   ],
   "source": [
    "df[['sender_name','timestamp_ms','content']].sort_values('timestamp_ms').tail()"
   ]
  },
  {
   "cell_type": "code",
   "execution_count": 1416,
   "metadata": {},
   "outputs": [],
   "source": [
    "# bin data by month: sending frequencies, sending frequencies by senders, top few words "
   ]
  },
  {
   "cell_type": "code",
   "execution_count": 1417,
   "metadata": {},
   "outputs": [
    {
     "data": {
      "text/html": [
       "<div>\n",
       "<style scoped>\n",
       "    .dataframe tbody tr th:only-of-type {\n",
       "        vertical-align: middle;\n",
       "    }\n",
       "\n",
       "    .dataframe tbody tr th {\n",
       "        vertical-align: top;\n",
       "    }\n",
       "\n",
       "    .dataframe thead th {\n",
       "        text-align: right;\n",
       "    }\n",
       "</style>\n",
       "<table border=\"1\" class=\"dataframe\">\n",
       "  <thead>\n",
       "    <tr style=\"text-align: right;\">\n",
       "      <th></th>\n",
       "      <th>sender_name</th>\n",
       "      <th>sticker</th>\n",
       "      <th>messages</th>\n",
       "      <th>reactions</th>\n",
       "    </tr>\n",
       "  </thead>\n",
       "  <tbody>\n",
       "    <tr>\n",
       "      <th>0</th>\n",
       "      <td>user0</td>\n",
       "      <td>1237</td>\n",
       "      <td>19098</td>\n",
       "      <td>5704</td>\n",
       "    </tr>\n",
       "    <tr>\n",
       "      <th>1</th>\n",
       "      <td>user3</td>\n",
       "      <td>40</td>\n",
       "      <td>18634</td>\n",
       "      <td>3814</td>\n",
       "    </tr>\n",
       "    <tr>\n",
       "      <th>2</th>\n",
       "      <td>user7</td>\n",
       "      <td>4</td>\n",
       "      <td>8548</td>\n",
       "      <td>1879</td>\n",
       "    </tr>\n",
       "    <tr>\n",
       "      <th>3</th>\n",
       "      <td>user6</td>\n",
       "      <td>336</td>\n",
       "      <td>6742</td>\n",
       "      <td>1167</td>\n",
       "    </tr>\n",
       "    <tr>\n",
       "      <th>4</th>\n",
       "      <td>user2</td>\n",
       "      <td>244</td>\n",
       "      <td>6114</td>\n",
       "      <td>1748</td>\n",
       "    </tr>\n",
       "    <tr>\n",
       "      <th>5</th>\n",
       "      <td>user1</td>\n",
       "      <td>14</td>\n",
       "      <td>6077</td>\n",
       "      <td>2318</td>\n",
       "    </tr>\n",
       "    <tr>\n",
       "      <th>6</th>\n",
       "      <td>user12</td>\n",
       "      <td>99</td>\n",
       "      <td>5914</td>\n",
       "      <td>1770</td>\n",
       "    </tr>\n",
       "    <tr>\n",
       "      <th>7</th>\n",
       "      <td>user8</td>\n",
       "      <td>2</td>\n",
       "      <td>3555</td>\n",
       "      <td>1248</td>\n",
       "    </tr>\n",
       "    <tr>\n",
       "      <th>8</th>\n",
       "      <td>user4</td>\n",
       "      <td>20</td>\n",
       "      <td>3529</td>\n",
       "      <td>962</td>\n",
       "    </tr>\n",
       "    <tr>\n",
       "      <th>9</th>\n",
       "      <td>user10</td>\n",
       "      <td>6</td>\n",
       "      <td>2252</td>\n",
       "      <td>644</td>\n",
       "    </tr>\n",
       "    <tr>\n",
       "      <th>10</th>\n",
       "      <td>user11</td>\n",
       "      <td>2</td>\n",
       "      <td>2040</td>\n",
       "      <td>734</td>\n",
       "    </tr>\n",
       "    <tr>\n",
       "      <th>11</th>\n",
       "      <td>user5</td>\n",
       "      <td>18</td>\n",
       "      <td>1741</td>\n",
       "      <td>544</td>\n",
       "    </tr>\n",
       "    <tr>\n",
       "      <th>12</th>\n",
       "      <td>user9</td>\n",
       "      <td>0</td>\n",
       "      <td>1289</td>\n",
       "      <td>597</td>\n",
       "    </tr>\n",
       "    <tr>\n",
       "      <th>13</th>\n",
       "      <td>user13</td>\n",
       "      <td>0</td>\n",
       "      <td>10</td>\n",
       "      <td>5</td>\n",
       "    </tr>\n",
       "  </tbody>\n",
       "</table>\n",
       "</div>"
      ],
      "text/plain": [
       "   sender_name  sticker  messages  reactions\n",
       "0        user0     1237     19098       5704\n",
       "1        user3       40     18634       3814\n",
       "2        user7        4      8548       1879\n",
       "3        user6      336      6742       1167\n",
       "4        user2      244      6114       1748\n",
       "5        user1       14      6077       2318\n",
       "6       user12       99      5914       1770\n",
       "7        user8        2      3555       1248\n",
       "8        user4       20      3529        962\n",
       "9       user10        6      2252        644\n",
       "10      user11        2      2040        734\n",
       "11       user5       18      1741        544\n",
       "12       user9        0      1289        597\n",
       "13      user13        0        10          5"
      ]
     },
     "execution_count": 1417,
     "metadata": {},
     "output_type": "execute_result"
    }
   ],
   "source": [
    "# who send the most messages?\n",
    "df.groupby('sender_name').count().reset_index().sort_values('content',ascending=False)\\\n",
    "[['sender_name','sticker','content','reactions']].rename(columns={'content':'messages'}).reset_index(drop=True)"
   ]
  },
  {
   "cell_type": "code",
   "execution_count": 1418,
   "metadata": {},
   "outputs": [
    {
     "name": "stderr",
     "output_type": "stream",
     "text": [
      "<ipython-input-1418-5eefcfbf9272>:3: SettingWithCopyWarning: \n",
      "A value is trying to be set on a copy of a slice from a DataFrame.\n",
      "Try using .loc[row_indexer,col_indexer] = value instead\n",
      "\n",
      "See the caveats in the documentation: https://pandas.pydata.org/pandas-docs/stable/user_guide/indexing.html#returning-a-view-versus-a-copy\n",
      "  df_by_month['month'] = df_by_month.timestamp_ms.\\\n"
     ]
    }
   ],
   "source": [
    "df_by_month = df[['sender_name','timestamp_ms','content']]\n",
    "\n",
    "df_by_month['month'] = df_by_month.timestamp_ms.\\\n",
    "apply(lambda x: datetime.datetime(x.year, x.month, 1))\n"
   ]
  },
  {
   "cell_type": "code",
   "execution_count": 1419,
   "metadata": {},
   "outputs": [
    {
     "data": {
      "text/html": [
       "<div>\n",
       "<style scoped>\n",
       "    .dataframe tbody tr th:only-of-type {\n",
       "        vertical-align: middle;\n",
       "    }\n",
       "\n",
       "    .dataframe tbody tr th {\n",
       "        vertical-align: top;\n",
       "    }\n",
       "\n",
       "    .dataframe thead th {\n",
       "        text-align: right;\n",
       "    }\n",
       "</style>\n",
       "<table border=\"1\" class=\"dataframe\">\n",
       "  <thead>\n",
       "    <tr style=\"text-align: right;\">\n",
       "      <th></th>\n",
       "      <th>sender_name</th>\n",
       "      <th>timestamp_ms</th>\n",
       "      <th>content</th>\n",
       "      <th>month</th>\n",
       "    </tr>\n",
       "  </thead>\n",
       "  <tbody>\n",
       "    <tr>\n",
       "      <th>0</th>\n",
       "      <td>user0</td>\n",
       "      <td>2021-01-19</td>\n",
       "      <td>a whole cube of joy, very good fo ya =))</td>\n",
       "      <td>2021-01-01</td>\n",
       "    </tr>\n",
       "    <tr>\n",
       "      <th>1</th>\n",
       "      <td>user1</td>\n",
       "      <td>2021-01-19</td>\n",
       "      <td>full of sugar, bad fo ya</td>\n",
       "      <td>2021-01-01</td>\n",
       "    </tr>\n",
       "    <tr>\n",
       "      <th>2</th>\n",
       "      <td>user0</td>\n",
       "      <td>2021-01-19</td>\n",
       "      <td>hixx</td>\n",
       "      <td>2021-01-01</td>\n",
       "    </tr>\n",
       "    <tr>\n",
       "      <th>3</th>\n",
       "      <td>user0</td>\n",
       "      <td>2021-01-19</td>\n",
       "      <td>nan</td>\n",
       "      <td>2021-01-01</td>\n",
       "    </tr>\n",
       "    <tr>\n",
       "      <th>4</th>\n",
       "      <td>user0</td>\n",
       "      <td>2021-01-18</td>\n",
       "      <td>trời oiiiiiiii món này sinh ra từ khi nào vậy ...</td>\n",
       "      <td>2021-01-01</td>\n",
       "    </tr>\n",
       "    <tr>\n",
       "      <th>5</th>\n",
       "      <td>user0</td>\n",
       "      <td>2021-01-18</td>\n",
       "      <td>mấy anh chị em tránh xa mấy nơi manh động nha!!</td>\n",
       "      <td>2021-01-01</td>\n",
       "    </tr>\n",
       "    <tr>\n",
       "      <th>6</th>\n",
       "      <td>user0</td>\n",
       "      <td>2021-01-18</td>\n",
       "      <td>trời mà nhắc mới nhớ, hị hị bảo sao 3h sáng đê...</td>\n",
       "      <td>2021-01-01</td>\n",
       "    </tr>\n",
       "    <tr>\n",
       "      <th>7</th>\n",
       "      <td>user1</td>\n",
       "      <td>2021-01-18</td>\n",
       "      <td>2 more days of Trump! Wed có thể sẽ thú vị he he.</td>\n",
       "      <td>2021-01-01</td>\n",
       "    </tr>\n",
       "    <tr>\n",
       "      <th>8</th>\n",
       "      <td>user2</td>\n",
       "      <td>2021-01-16</td>\n",
       "      <td>Dạ nó thực ra ko tốn nhiều thgian. Chẳng qua k...</td>\n",
       "      <td>2021-01-01</td>\n",
       "    </tr>\n",
       "    <tr>\n",
       "      <th>9</th>\n",
       "      <td>user3</td>\n",
       "      <td>2021-01-16</td>\n",
       "      <td>Same here. Đợt nào làm k ra lad xuống kí liền....</td>\n",
       "      <td>2021-01-01</td>\n",
       "    </tr>\n",
       "  </tbody>\n",
       "</table>\n",
       "</div>"
      ],
      "text/plain": [
       "  sender_name timestamp_ms                                            content  \\\n",
       "0       user0   2021-01-19           a whole cube of joy, very good fo ya =))   \n",
       "1       user1   2021-01-19                           full of sugar, bad fo ya   \n",
       "2       user0   2021-01-19                                               hixx   \n",
       "3       user0   2021-01-19                                                nan   \n",
       "4       user0   2021-01-18  trời oiiiiiiii món này sinh ra từ khi nào vậy ...   \n",
       "5       user0   2021-01-18    mấy anh chị em tránh xa mấy nơi manh động nha!!   \n",
       "6       user0   2021-01-18  trời mà nhắc mới nhớ, hị hị bảo sao 3h sáng đê...   \n",
       "7       user1   2021-01-18  2 more days of Trump! Wed có thể sẽ thú vị he he.   \n",
       "8       user2   2021-01-16  Dạ nó thực ra ko tốn nhiều thgian. Chẳng qua k...   \n",
       "9       user3   2021-01-16  Same here. Đợt nào làm k ra lad xuống kí liền....   \n",
       "\n",
       "       month  \n",
       "0 2021-01-01  \n",
       "1 2021-01-01  \n",
       "2 2021-01-01  \n",
       "3 2021-01-01  \n",
       "4 2021-01-01  \n",
       "5 2021-01-01  \n",
       "6 2021-01-01  \n",
       "7 2021-01-01  \n",
       "8 2021-01-01  \n",
       "9 2021-01-01  "
      ]
     },
     "execution_count": 1419,
     "metadata": {},
     "output_type": "execute_result"
    }
   ],
   "source": [
    "df_by_month.head(10)"
   ]
  },
  {
   "cell_type": "code",
   "execution_count": 1420,
   "metadata": {},
   "outputs": [
    {
     "data": {
      "text/plain": [
       "(444, 2)"
      ]
     },
     "execution_count": 1420,
     "metadata": {},
     "output_type": "execute_result"
    }
   ],
   "source": [
    "msg_per_day=df_by_month[['sender_name','timestamp_ms','month']]\n",
    "# remove the last month manually\n",
    "msg_per_day=msg_per_day[msg_per_day.month != datetime.datetime(2021,1,1)]\n",
    "msg_per_day=msg_per_day[['sender_name','timestamp_ms']].groupby(['timestamp_ms']).\\\n",
    "count().reset_index().rename(columns={\"sender_name\":\"msg_num\"})\n",
    "msg_per_day.shape"
   ]
  },
  {
   "cell_type": "code",
   "execution_count": 1421,
   "metadata": {},
   "outputs": [
    {
     "data": {
      "text/plain": [
       "443    2020-12-28\n",
       "Name: timestamp_ms, dtype: object"
      ]
     },
     "execution_count": 1421,
     "metadata": {},
     "output_type": "execute_result"
    }
   ],
   "source": [
    "msg_per_day.timestamp_ms.iloc[-1:]"
   ]
  },
  {
   "cell_type": "code",
   "execution_count": null,
   "metadata": {},
   "outputs": [],
   "source": []
  },
  {
   "cell_type": "code",
   "execution_count": 1422,
   "metadata": {},
   "outputs": [
    {
     "data": {
      "image/png": "[encoded data removed]",
      "text/plain": [
       "<Figure size 560x560 with 2 Axes>"
      ]
     },
     "metadata": {},
     "output_type": "display_data"
    }
   ],
   "source": [
    "# plot senders by month\n",
    "# iterate sender names, plot content vs time\n",
    "from cycler import cycler\n",
    "# list of names\n",
    "names=df_by_month.sender_name.unique()\n",
    "names=names[names != inactive_user]\n",
    "\n",
    "months=df_by_month[df_by_month.sender_name==active_user].\\\n",
    "    groupby('month').count().reset_index().month\n",
    "# tickmark time\n",
    "timemarks=[str(x.month) +'-'+ str(x.year-2000) for x in months]\n",
    "\n",
    "\n",
    "fig,axes = plt.subplots(nrows=2, ncols=1, figsize=(7, 7), dpi=80, facecolor='w', edgecolor='k')\n",
    "ax, ax2 = axes.flatten()\n",
    "\n",
    "colorcycle = cycler('color', ['blue', 'green', 'red', 'cyan', 'magenta',  'black', 'purple',\n",
    "                                    'orange', 'teal',  'lime', \n",
    "                                    'turquoise', 'tan', 'salmon', 'gold'])\n",
    "ax.set_prop_cycle(colorcycle)\n",
    "\n",
    "# plot by month, drop last month\n",
    "for name in names:\n",
    "    xx= df_by_month[df_by_month.sender_name==name].\\\n",
    "    groupby('month').count().reset_index() # sender vs number of messages\n",
    "    \n",
    "    ax.plot(xx.month.iloc[:-1],xx.content.iloc[:-1],'--',label=name.split()[0])\n",
    "    \n",
    "\n",
    "# ax.legend(frameon=False, bbox_to_anchor=(0., 1.1, 1., .102), loc='lower left',\n",
    "#                ncol=3, mode=\"expand\", borderaxespad=0.)\n",
    "ax.legend(frameon=False, loc='upper right',\n",
    "               ncol=2)\n",
    "ax.set_prop_cycle(colorcycle)\n",
    "#plt.yscale('log')\n",
    "\n",
    "\n",
    "ax.set_ylabel('montly number of messages by sender')\n",
    "ax.set_xlabel('time')\n",
    "ax.set_xticklabels(timemarks[:-1][0::2])\n",
    "#ax2 = ax.twinx()  # instantiate a second axes that shares the same x-axis\n",
    "\n",
    "color = 'tab:blue'\n",
    "ax2.set_ylabel(' daily total', color=color)  # we already handled the x-label with ax1\n",
    "ax2.plot(msg_per_day.timestamp_ms, msg_per_day.msg_num, '-',color=color)\n",
    "ax2.tick_params(axis='y', labelcolor=color)\n",
    "ax2.set_xticks(msg_per_day.timestamp_ms[::len(msg_per_day.timestamp_ms)-1])\n",
    "ax2.set_xticklabels(msg_per_day.timestamp_ms[::len(msg_per_day.timestamp_ms)-1])\n",
    "#ax2.set_xticklabels(msg_per_day.timestamp_ms.apply(lambda x:str(x.day)+'-'+ str(x.month))[0::30])\n",
    "\n",
    "fig.tight_layout()  # otherwise the right y-label is slightly clipped"
   ]
  },
  {
   "cell_type": "code",
   "execution_count": null,
   "metadata": {},
   "outputs": [],
   "source": []
  },
  {
   "cell_type": "code",
   "execution_count": 1423,
   "metadata": {},
   "outputs": [
    {
     "data": {
      "text/html": [
       "<div>\n",
       "<style scoped>\n",
       "    .dataframe tbody tr th:only-of-type {\n",
       "        vertical-align: middle;\n",
       "    }\n",
       "\n",
       "    .dataframe tbody tr th {\n",
       "        vertical-align: top;\n",
       "    }\n",
       "\n",
       "    .dataframe thead th {\n",
       "        text-align: right;\n",
       "    }\n",
       "</style>\n",
       "<table border=\"1\" class=\"dataframe\">\n",
       "  <thead>\n",
       "    <tr style=\"text-align: right;\">\n",
       "      <th></th>\n",
       "      <th>month</th>\n",
       "      <th>content</th>\n",
       "    </tr>\n",
       "  </thead>\n",
       "  <tbody>\n",
       "    <tr>\n",
       "      <th>0</th>\n",
       "      <td>2021-01-01</td>\n",
       "      <td>a whole cube of joy, very good fo ya =))</td>\n",
       "    </tr>\n",
       "    <tr>\n",
       "      <th>1</th>\n",
       "      <td>2021-01-01</td>\n",
       "      <td>full of sugar, bad fo ya</td>\n",
       "    </tr>\n",
       "    <tr>\n",
       "      <th>2</th>\n",
       "      <td>2021-01-01</td>\n",
       "      <td>hixx</td>\n",
       "    </tr>\n",
       "    <tr>\n",
       "      <th>3</th>\n",
       "      <td>2021-01-01</td>\n",
       "      <td>nan</td>\n",
       "    </tr>\n",
       "    <tr>\n",
       "      <th>4</th>\n",
       "      <td>2021-01-01</td>\n",
       "      <td>trời oiiiiiiii món này sinh ra từ khi nào vậy ...</td>\n",
       "    </tr>\n",
       "  </tbody>\n",
       "</table>\n",
       "</div>"
      ],
      "text/plain": [
       "       month                                            content\n",
       "0 2021-01-01           a whole cube of joy, very good fo ya =))\n",
       "1 2021-01-01                           full of sugar, bad fo ya\n",
       "2 2021-01-01                                               hixx\n",
       "3 2021-01-01                                                nan\n",
       "4 2021-01-01  trời oiiiiiiii món này sinh ra từ khi nào vậy ..."
      ]
     },
     "execution_count": 1423,
     "metadata": {},
     "output_type": "execute_result"
    }
   ],
   "source": [
    "time_content= df_by_month[['month','content']]\n",
    "time_content.head()"
   ]
  },
  {
   "cell_type": "markdown",
   "metadata": {},
   "source": [
    "transform will act on the group, but return the same number of rows"
   ]
  },
  {
   "cell_type": "code",
   "execution_count": 1424,
   "metadata": {},
   "outputs": [
    {
     "name": "stderr",
     "output_type": "stream",
     "text": [
      "/Users/qmn203/opt/anaconda3/lib/python3.8/site-packages/pandas/core/generic.py:5303: SettingWithCopyWarning: \n",
      "A value is trying to be set on a copy of a slice from a DataFrame.\n",
      "Try using .loc[row_indexer,col_indexer] = value instead\n",
      "\n",
      "See the caveats in the documentation: https://pandas.pydata.org/pandas-docs/stable/user_guide/indexing.html#returning-a-view-versus-a-copy\n",
      "  self[name] = value\n"
     ]
    }
   ],
   "source": [
    "time_content.content =time_content.groupby('month')['content'].transform(lambda x: \",\".join(x))"
   ]
  },
  {
   "cell_type": "code",
   "execution_count": 1425,
   "metadata": {},
   "outputs": [
    {
     "data": {
      "text/html": [
       "<div>\n",
       "<style scoped>\n",
       "    .dataframe tbody tr th:only-of-type {\n",
       "        vertical-align: middle;\n",
       "    }\n",
       "\n",
       "    .dataframe tbody tr th {\n",
       "        vertical-align: top;\n",
       "    }\n",
       "\n",
       "    .dataframe thead th {\n",
       "        text-align: right;\n",
       "    }\n",
       "</style>\n",
       "<table border=\"1\" class=\"dataframe\">\n",
       "  <thead>\n",
       "    <tr style=\"text-align: right;\">\n",
       "      <th></th>\n",
       "      <th>month</th>\n",
       "      <th>content</th>\n",
       "    </tr>\n",
       "  </thead>\n",
       "  <tbody>\n",
       "    <tr>\n",
       "      <th>0</th>\n",
       "      <td>2021-01-01</td>\n",
       "      <td>a whole cube of joy, very good fo ya =)),full ...</td>\n",
       "    </tr>\n",
       "    <tr>\n",
       "      <th>1</th>\n",
       "      <td>2021-01-01</td>\n",
       "      <td>a whole cube of joy, very good fo ya =)),full ...</td>\n",
       "    </tr>\n",
       "    <tr>\n",
       "      <th>2</th>\n",
       "      <td>2021-01-01</td>\n",
       "      <td>a whole cube of joy, very good fo ya =)),full ...</td>\n",
       "    </tr>\n",
       "    <tr>\n",
       "      <th>3</th>\n",
       "      <td>2021-01-01</td>\n",
       "      <td>a whole cube of joy, very good fo ya =)),full ...</td>\n",
       "    </tr>\n",
       "    <tr>\n",
       "      <th>4</th>\n",
       "      <td>2021-01-01</td>\n",
       "      <td>a whole cube of joy, very good fo ya =)),full ...</td>\n",
       "    </tr>\n",
       "  </tbody>\n",
       "</table>\n",
       "</div>"
      ],
      "text/plain": [
       "       month                                            content\n",
       "0 2021-01-01  a whole cube of joy, very good fo ya =)),full ...\n",
       "1 2021-01-01  a whole cube of joy, very good fo ya =)),full ...\n",
       "2 2021-01-01  a whole cube of joy, very good fo ya =)),full ...\n",
       "3 2021-01-01  a whole cube of joy, very good fo ya =)),full ...\n",
       "4 2021-01-01  a whole cube of joy, very good fo ya =)),full ..."
      ]
     },
     "execution_count": 1425,
     "metadata": {},
     "output_type": "execute_result"
    }
   ],
   "source": [
    "time_content.head()"
   ]
  },
  {
   "cell_type": "code",
   "execution_count": 1426,
   "metadata": {},
   "outputs": [
    {
     "data": {
      "text/plain": [
       "(19,)"
      ]
     },
     "execution_count": 1426,
     "metadata": {},
     "output_type": "execute_result"
    }
   ],
   "source": [
    "monthly=time_content.content.drop_duplicates()\n",
    "monthly.shape"
   ]
  },
  {
   "cell_type": "code",
   "execution_count": null,
   "metadata": {},
   "outputs": [],
   "source": []
  },
  {
   "cell_type": "code",
   "execution_count": 1427,
   "metadata": {},
   "outputs": [
    {
     "data": {
      "text/plain": [
       "Index(['😂', '😅', '😇', '😉', '😳', '😆', '😜', '😕', '😍', 'ngủ', 'stock'], dtype='object')"
      ]
     },
     "execution_count": 1427,
     "metadata": {},
     "output_type": "execute_result"
    }
   ],
   "source": [
    "import collections\n",
    "#table=pd.DataFrame({'tiền':[],'yêu':[], 'gái':[], 'ăn':[], 'chơi':[],'học':[]})\n",
    "table=pd.DataFrame({'😂':[],'😅':[], '😇':[],'😉':[],\n",
    "                    '😳':[],'😆':[],'😜':[],'😕':[],'😍':[],'ngủ':[],'stock':[]})\n",
    "table.columns"
   ]
  },
  {
   "cell_type": "code",
   "execution_count": 1428,
   "metadata": {},
   "outputs": [],
   "source": [
    "lol=[]\n",
    "\n",
    "for mo in monthly.iloc[:-1]:\n",
    "    splitt = mo.lower().split()\n",
    "    ll=[]\n",
    "    for word in table.columns:\n",
    "        ll.append(collections.Counter(splitt)[word]/len(splitt))\n",
    "        #print(collections.Counter(split).most_common(100))\n",
    "    lol.append(ll)\n",
    "\n",
    "table=table.append(pd.DataFrame(lol,columns = table.columns))\n",
    "    "
   ]
  },
  {
   "cell_type": "code",
   "execution_count": 1429,
   "metadata": {},
   "outputs": [
    {
     "data": {
      "text/html": [
       "<div>\n",
       "<style scoped>\n",
       "    .dataframe tbody tr th:only-of-type {\n",
       "        vertical-align: middle;\n",
       "    }\n",
       "\n",
       "    .dataframe tbody tr th {\n",
       "        vertical-align: top;\n",
       "    }\n",
       "\n",
       "    .dataframe thead th {\n",
       "        text-align: right;\n",
       "    }\n",
       "</style>\n",
       "<table border=\"1\" class=\"dataframe\">\n",
       "  <thead>\n",
       "    <tr style=\"text-align: right;\">\n",
       "      <th></th>\n",
       "      <th>😂</th>\n",
       "      <th>😅</th>\n",
       "      <th>😇</th>\n",
       "      <th>😉</th>\n",
       "      <th>😳</th>\n",
       "      <th>😆</th>\n",
       "      <th>😜</th>\n",
       "      <th>😕</th>\n",
       "      <th>😍</th>\n",
       "      <th>ngủ</th>\n",
       "      <th>stock</th>\n",
       "    </tr>\n",
       "  </thead>\n",
       "  <tbody>\n",
       "    <tr>\n",
       "      <th>0</th>\n",
       "      <td>0.000000</td>\n",
       "      <td>0.000000</td>\n",
       "      <td>0.0</td>\n",
       "      <td>0.0</td>\n",
       "      <td>0.0</td>\n",
       "      <td>0.0</td>\n",
       "      <td>0.0</td>\n",
       "      <td>0.0</td>\n",
       "      <td>0.000227</td>\n",
       "      <td>0.000227</td>\n",
       "      <td>0.000907</td>\n",
       "    </tr>\n",
       "    <tr>\n",
       "      <th>1</th>\n",
       "      <td>0.000396</td>\n",
       "      <td>0.000132</td>\n",
       "      <td>0.0</td>\n",
       "      <td>0.0</td>\n",
       "      <td>0.0</td>\n",
       "      <td>0.0</td>\n",
       "      <td>0.0</td>\n",
       "      <td>0.0</td>\n",
       "      <td>0.000000</td>\n",
       "      <td>0.000000</td>\n",
       "      <td>0.000000</td>\n",
       "    </tr>\n",
       "    <tr>\n",
       "      <th>2</th>\n",
       "      <td>0.000241</td>\n",
       "      <td>0.000060</td>\n",
       "      <td>0.0</td>\n",
       "      <td>0.0</td>\n",
       "      <td>0.0</td>\n",
       "      <td>0.0</td>\n",
       "      <td>0.0</td>\n",
       "      <td>0.0</td>\n",
       "      <td>0.000000</td>\n",
       "      <td>0.000120</td>\n",
       "      <td>0.000962</td>\n",
       "    </tr>\n",
       "    <tr>\n",
       "      <th>3</th>\n",
       "      <td>0.000371</td>\n",
       "      <td>0.000186</td>\n",
       "      <td>0.0</td>\n",
       "      <td>0.0</td>\n",
       "      <td>0.0</td>\n",
       "      <td>0.0</td>\n",
       "      <td>0.0</td>\n",
       "      <td>0.0</td>\n",
       "      <td>0.000000</td>\n",
       "      <td>0.001486</td>\n",
       "      <td>0.000371</td>\n",
       "    </tr>\n",
       "    <tr>\n",
       "      <th>4</th>\n",
       "      <td>0.000294</td>\n",
       "      <td>0.000000</td>\n",
       "      <td>0.0</td>\n",
       "      <td>0.0</td>\n",
       "      <td>0.0</td>\n",
       "      <td>0.0</td>\n",
       "      <td>0.0</td>\n",
       "      <td>0.0</td>\n",
       "      <td>0.000000</td>\n",
       "      <td>0.000294</td>\n",
       "      <td>0.002204</td>\n",
       "    </tr>\n",
       "  </tbody>\n",
       "</table>\n",
       "</div>"
      ],
      "text/plain": [
       "          😂         😅    😇    😉    😳    😆    😜    😕         😍       ngủ  \\\n",
       "0  0.000000  0.000000  0.0  0.0  0.0  0.0  0.0  0.0  0.000227  0.000227   \n",
       "1  0.000396  0.000132  0.0  0.0  0.0  0.0  0.0  0.0  0.000000  0.000000   \n",
       "2  0.000241  0.000060  0.0  0.0  0.0  0.0  0.0  0.0  0.000000  0.000120   \n",
       "3  0.000371  0.000186  0.0  0.0  0.0  0.0  0.0  0.0  0.000000  0.001486   \n",
       "4  0.000294  0.000000  0.0  0.0  0.0  0.0  0.0  0.0  0.000000  0.000294   \n",
       "\n",
       "      stock  \n",
       "0  0.000907  \n",
       "1  0.000000  \n",
       "2  0.000962  \n",
       "3  0.000371  \n",
       "4  0.002204  "
      ]
     },
     "execution_count": 1429,
     "metadata": {},
     "output_type": "execute_result"
    }
   ],
   "source": [
    "table.head()"
   ]
  },
  {
   "cell_type": "code",
   "execution_count": 1430,
   "metadata": {},
   "outputs": [
    {
     "data": {
      "text/plain": [
       "0    2019-07-01\n",
       "1    2019-08-01\n",
       "2    2019-09-01\n",
       "3    2019-10-01\n",
       "4    2019-11-01\n",
       "5    2019-12-01\n",
       "6    2020-01-01\n",
       "7    2020-02-01\n",
       "8    2020-03-01\n",
       "9    2020-04-01\n",
       "10   2020-05-01\n",
       "11   2020-06-01\n",
       "12   2020-07-01\n",
       "13   2020-08-01\n",
       "14   2020-09-01\n",
       "15   2020-10-01\n",
       "16   2020-11-01\n",
       "17   2020-12-01\n",
       "18   2021-01-01\n",
       "Name: month, dtype: datetime64[ns]"
      ]
     },
     "execution_count": 1430,
     "metadata": {},
     "output_type": "execute_result"
    }
   ],
   "source": [
    "months"
   ]
  },
  {
   "cell_type": "code",
   "execution_count": 1431,
   "metadata": {},
   "outputs": [],
   "source": [
    "\n",
    "mpl.rc('font',size=20)"
   ]
  },
  {
   "cell_type": "code",
   "execution_count": 1432,
   "metadata": {},
   "outputs": [
    {
     "data": {
      "text/plain": [
       "Text(0.5, 1.0, 'some common emoticons')"
      ]
     },
     "execution_count": 1432,
     "metadata": {},
     "output_type": "execute_result"
    },
    {
     "data": {
      "image/png": "[encoded data removed]",
      "text/plain": [
       "<Figure size 504x504 with 1 Axes>"
      ]
     },
     "metadata": {
      "needs_background": "light"
     },
     "output_type": "display_data"
    }
   ],
   "source": [
    "fig,ax = plt.subplots(figsize=(7, 7))\n",
    "ax.set_prop_cycle(colorcycle)\n",
    "for word in table.columns:\n",
    "    plt.plot(months.iloc[:-1], table[word],'--',label= str(word) )\n",
    "    \n",
    "# ax.legend(frameon=False, bbox_to_anchor=(0., 1.1, 1., .102), loc='lower left',\n",
    "#                ncol=3, mode=\"expand\", borderaxespad=0.)\n",
    "ax.legend(frameon=False, loc='upper right',\n",
    "               ncol=2, )\n",
    "#plt.yscale('log')\n",
    "\n",
    "ax.set_xticklabels([x.split('-')[0] for x in timemarks][0::2])\n",
    "ax.set_ylabel('relative frequency')\n",
    "ax.set_xlabel('month')\n",
    "ax.set_title('some common emoticons')"
   ]
  },
  {
   "cell_type": "code",
   "execution_count": 1433,
   "metadata": {},
   "outputs": [
    {
     "name": "stdout",
     "output_type": "stream",
     "text": [
      "(85543, 2)\n"
     ]
    }
   ],
   "source": [
    "# getting sender and reactions\n",
    "send_react=df[['sender_name','reactions']]\n",
    "print(send_react.shape)\n"
   ]
  },
  {
   "cell_type": "code",
   "execution_count": 1434,
   "metadata": {},
   "outputs": [
    {
     "data": {
      "text/html": [
       "<div>\n",
       "<style scoped>\n",
       "    .dataframe tbody tr th:only-of-type {\n",
       "        vertical-align: middle;\n",
       "    }\n",
       "\n",
       "    .dataframe tbody tr th {\n",
       "        vertical-align: top;\n",
       "    }\n",
       "\n",
       "    .dataframe thead th {\n",
       "        text-align: right;\n",
       "    }\n",
       "</style>\n",
       "<table border=\"1\" class=\"dataframe\">\n",
       "  <thead>\n",
       "    <tr style=\"text-align: right;\">\n",
       "      <th></th>\n",
       "      <th>sender_name</th>\n",
       "      <th>count</th>\n",
       "    </tr>\n",
       "  </thead>\n",
       "  <tbody>\n",
       "    <tr>\n",
       "      <th>0</th>\n",
       "      <td>user0</td>\n",
       "      <td>19098</td>\n",
       "    </tr>\n",
       "    <tr>\n",
       "      <th>1</th>\n",
       "      <td>user1</td>\n",
       "      <td>6077</td>\n",
       "    </tr>\n",
       "    <tr>\n",
       "      <th>2</th>\n",
       "      <td>user10</td>\n",
       "      <td>2252</td>\n",
       "    </tr>\n",
       "    <tr>\n",
       "      <th>3</th>\n",
       "      <td>user11</td>\n",
       "      <td>2040</td>\n",
       "    </tr>\n",
       "    <tr>\n",
       "      <th>4</th>\n",
       "      <td>user12</td>\n",
       "      <td>5914</td>\n",
       "    </tr>\n",
       "    <tr>\n",
       "      <th>6</th>\n",
       "      <td>user2</td>\n",
       "      <td>6114</td>\n",
       "    </tr>\n",
       "    <tr>\n",
       "      <th>7</th>\n",
       "      <td>user3</td>\n",
       "      <td>18634</td>\n",
       "    </tr>\n",
       "    <tr>\n",
       "      <th>8</th>\n",
       "      <td>user4</td>\n",
       "      <td>3529</td>\n",
       "    </tr>\n",
       "    <tr>\n",
       "      <th>9</th>\n",
       "      <td>user5</td>\n",
       "      <td>1741</td>\n",
       "    </tr>\n",
       "    <tr>\n",
       "      <th>10</th>\n",
       "      <td>user6</td>\n",
       "      <td>6742</td>\n",
       "    </tr>\n",
       "    <tr>\n",
       "      <th>11</th>\n",
       "      <td>user7</td>\n",
       "      <td>8548</td>\n",
       "    </tr>\n",
       "    <tr>\n",
       "      <th>12</th>\n",
       "      <td>user8</td>\n",
       "      <td>3555</td>\n",
       "    </tr>\n",
       "    <tr>\n",
       "      <th>13</th>\n",
       "      <td>user9</td>\n",
       "      <td>1289</td>\n",
       "    </tr>\n",
       "  </tbody>\n",
       "</table>\n",
       "</div>"
      ],
      "text/plain": [
       "   sender_name  count\n",
       "0        user0  19098\n",
       "1        user1   6077\n",
       "2       user10   2252\n",
       "3       user11   2040\n",
       "4       user12   5914\n",
       "6        user2   6114\n",
       "7        user3  18634\n",
       "8        user4   3529\n",
       "9        user5   1741\n",
       "10       user6   6742\n",
       "11       user7   8548\n",
       "12       user8   3555\n",
       "13       user9   1289"
      ]
     },
     "execution_count": 1434,
     "metadata": {},
     "output_type": "execute_result"
    }
   ],
   "source": [
    "# number of messages sent by senders\n",
    "num_of_msg = df[['sender_name']]\n",
    "num_of_msg.insert(1, value=np.ones(send_react.shape[0]),column='count')\n",
    "num_of_msg=num_of_msg.groupby('sender_name').count().reset_index().sort_values(by='sender_name')\n",
    "num_of_msg=num_of_msg[num_of_msg.sender_name !=inactive_user]\n",
    "num_of_msg"
   ]
  },
  {
   "cell_type": "markdown",
   "metadata": {},
   "source": [
    "parse each reactions into a list of reactor names [{'reaction': 'haha', 'actor': 'user1'},{ 'reaction': 'lol', 'actor': 'user2'},...] --> [user1,user2,...]"
   ]
  },
  {
   "cell_type": "code",
   "execution_count": 1435,
   "metadata": {},
   "outputs": [
    {
     "name": "stderr",
     "output_type": "stream",
     "text": [
      "/Users/qmn203/opt/anaconda3/lib/python3.8/site-packages/pandas/core/series.py:1042: SettingWithCopyWarning: \n",
      "A value is trying to be set on a copy of a slice from a DataFrame\n",
      "\n",
      "See the caveats in the documentation: https://pandas.pydata.org/pandas-docs/stable/user_guide/indexing.html#returning-a-view-versus-a-copy\n",
      "  self._set_with(key, value)\n",
      "/Users/qmn203/opt/anaconda3/lib/python3.8/site-packages/IPython/core/interactiveshell.py:3343: SettingWithCopyWarning: \n",
      "A value is trying to be set on a copy of a slice from a DataFrame\n",
      "\n",
      "See the caveats in the documentation: https://pandas.pydata.org/pandas-docs/stable/user_guide/indexing.html#returning-a-view-versus-a-copy\n",
      "  exec(code_obj, self.user_global_ns, self.user_ns)\n"
     ]
    }
   ],
   "source": [
    "send_react.reactions[~pd.isna(send_react.reactions)] =send_react.reactions[~pd.isna(send_react.reactions)].apply(lambda x: [react['actor'] for react in x])\n"
   ]
  },
  {
   "cell_type": "code",
   "execution_count": 1436,
   "metadata": {},
   "outputs": [],
   "source": [
    "# abbreivate names abc def ghk-> adg\n",
    "\n",
    "# send_react.reactions[~pd.isna(send_react.reactions)]=send_react.reactions[~pd.isna(send_react.reactions)].\\\n",
    "# apply(lambda x: [\"\".join([name[0] for name in actor.split()]) for actor in x])\n",
    "\n",
    "# OR replace names by generic names\n"
   ]
  },
  {
   "cell_type": "code",
   "execution_count": 1437,
   "metadata": {},
   "outputs": [
    {
     "data": {
      "text/html": [
       "<div>\n",
       "<style scoped>\n",
       "    .dataframe tbody tr th:only-of-type {\n",
       "        vertical-align: middle;\n",
       "    }\n",
       "\n",
       "    .dataframe tbody tr th {\n",
       "        vertical-align: top;\n",
       "    }\n",
       "\n",
       "    .dataframe thead th {\n",
       "        text-align: right;\n",
       "    }\n",
       "</style>\n",
       "<table border=\"1\" class=\"dataframe\">\n",
       "  <thead>\n",
       "    <tr style=\"text-align: right;\">\n",
       "      <th></th>\n",
       "      <th>sender_name</th>\n",
       "      <th>reactions</th>\n",
       "    </tr>\n",
       "  </thead>\n",
       "  <tbody>\n",
       "    <tr>\n",
       "      <th>0</th>\n",
       "      <td>user0</td>\n",
       "      <td>NaN</td>\n",
       "    </tr>\n",
       "    <tr>\n",
       "      <th>1</th>\n",
       "      <td>user1</td>\n",
       "      <td>user2</td>\n",
       "    </tr>\n",
       "    <tr>\n",
       "      <th>1</th>\n",
       "      <td>user1</td>\n",
       "      <td>user11</td>\n",
       "    </tr>\n",
       "    <tr>\n",
       "      <th>1</th>\n",
       "      <td>user1</td>\n",
       "      <td>user9</td>\n",
       "    </tr>\n",
       "    <tr>\n",
       "      <th>2</th>\n",
       "      <td>user0</td>\n",
       "      <td>NaN</td>\n",
       "    </tr>\n",
       "  </tbody>\n",
       "</table>\n",
       "</div>"
      ],
      "text/plain": [
       "  sender_name reactions\n",
       "0       user0       NaN\n",
       "1       user1     user2\n",
       "1       user1    user11\n",
       "1       user1     user9\n",
       "2       user0       NaN"
      ]
     },
     "execution_count": 1437,
     "metadata": {},
     "output_type": "execute_result"
    }
   ],
   "source": [
    "# expand list of name in reactions column into new rows, each row one name, other columns will be repeated\n",
    "send_react=send_react.explode('reactions')\n",
    "# decode the names\n",
    "send_react.reactions[~pd.isna(send_react.reactions)]=\\\n",
    "send_react.reactions[~pd.isna(send_react.reactions)].apply(lambda x: x.encode('latin1').decode('utf8'))\n",
    "#  replace names by generic names\n",
    "send_react.reactions.replace(dictionary,inplace=True)\n",
    "\n",
    "send_react.shape\n",
    "send_react.head()"
   ]
  },
  {
   "cell_type": "code",
   "execution_count": 1438,
   "metadata": {},
   "outputs": [
    {
     "data": {
      "text/plain": [
       "(95481, 3)"
      ]
     },
     "execution_count": 1438,
     "metadata": {},
     "output_type": "execute_result"
    }
   ],
   "source": [
    "# insert column of 1 for counting\n",
    "send_react.insert(2, value=np.ones(send_react.shape[0]),column='count')\n",
    "send_react.shape # number of reaction is slightly larger than number of message sent"
   ]
  },
  {
   "cell_type": "code",
   "execution_count": 1439,
   "metadata": {},
   "outputs": [
    {
     "data": {
      "text/html": [
       "<div>\n",
       "<style scoped>\n",
       "    .dataframe tbody tr th:only-of-type {\n",
       "        vertical-align: middle;\n",
       "    }\n",
       "\n",
       "    .dataframe tbody tr th {\n",
       "        vertical-align: top;\n",
       "    }\n",
       "\n",
       "    .dataframe thead th {\n",
       "        text-align: right;\n",
       "    }\n",
       "</style>\n",
       "<table border=\"1\" class=\"dataframe\">\n",
       "  <thead>\n",
       "    <tr style=\"text-align: right;\">\n",
       "      <th></th>\n",
       "      <th>sender_name</th>\n",
       "      <th>reactions</th>\n",
       "      <th>count</th>\n",
       "    </tr>\n",
       "  </thead>\n",
       "  <tbody>\n",
       "    <tr>\n",
       "      <th>0</th>\n",
       "      <td>user0</td>\n",
       "      <td>NaN</td>\n",
       "      <td>1.0</td>\n",
       "    </tr>\n",
       "    <tr>\n",
       "      <th>1</th>\n",
       "      <td>user1</td>\n",
       "      <td>user2</td>\n",
       "      <td>1.0</td>\n",
       "    </tr>\n",
       "    <tr>\n",
       "      <th>1</th>\n",
       "      <td>user1</td>\n",
       "      <td>user11</td>\n",
       "      <td>1.0</td>\n",
       "    </tr>\n",
       "    <tr>\n",
       "      <th>1</th>\n",
       "      <td>user1</td>\n",
       "      <td>user9</td>\n",
       "      <td>1.0</td>\n",
       "    </tr>\n",
       "    <tr>\n",
       "      <th>2</th>\n",
       "      <td>user0</td>\n",
       "      <td>NaN</td>\n",
       "      <td>1.0</td>\n",
       "    </tr>\n",
       "  </tbody>\n",
       "</table>\n",
       "</div>"
      ],
      "text/plain": [
       "  sender_name reactions  count\n",
       "0       user0       NaN    1.0\n",
       "1       user1     user2    1.0\n",
       "1       user1    user11    1.0\n",
       "1       user1     user9    1.0\n",
       "2       user0       NaN    1.0"
      ]
     },
     "execution_count": 1439,
     "metadata": {},
     "output_type": "execute_result"
    }
   ],
   "source": [
    "# remove inactive user manually\n",
    "send_react=send_react[(send_react.sender_name != inactive_user) & (send_react.reactions != inactive_user) ]\n",
    "send_react.head()"
   ]
  },
  {
   "cell_type": "code",
   "execution_count": 1440,
   "metadata": {},
   "outputs": [],
   "source": [
    "# groupby sender and reactor, and count (dropna=True default)\n",
    "send_react=send_react.groupby(['sender_name','reactions']).count().reset_index().sort_values(by=['sender_name','reactions'])"
   ]
  },
  {
   "cell_type": "code",
   "execution_count": 1441,
   "metadata": {},
   "outputs": [],
   "source": [
    "# turn into num_user**2 matrix\n",
    "interaction = send_react.pivot(index='sender_name',columns='reactions',values='count')\n"
   ]
  },
  {
   "cell_type": "code",
   "execution_count": 1442,
   "metadata": {},
   "outputs": [
    {
     "data": {
      "text/html": [
       "<div>\n",
       "<style scoped>\n",
       "    .dataframe tbody tr th:only-of-type {\n",
       "        vertical-align: middle;\n",
       "    }\n",
       "\n",
       "    .dataframe tbody tr th {\n",
       "        vertical-align: top;\n",
       "    }\n",
       "\n",
       "    .dataframe thead th {\n",
       "        text-align: right;\n",
       "    }\n",
       "</style>\n",
       "<table border=\"1\" class=\"dataframe\">\n",
       "  <thead>\n",
       "    <tr style=\"text-align: right;\">\n",
       "      <th>reactions</th>\n",
       "      <th>user0</th>\n",
       "      <th>user1</th>\n",
       "      <th>user10</th>\n",
       "      <th>user11</th>\n",
       "      <th>user12</th>\n",
       "      <th>user2</th>\n",
       "      <th>user3</th>\n",
       "      <th>user4</th>\n",
       "      <th>user5</th>\n",
       "      <th>user6</th>\n",
       "      <th>user7</th>\n",
       "      <th>user8</th>\n",
       "      <th>user9</th>\n",
       "    </tr>\n",
       "    <tr>\n",
       "      <th>sender_name</th>\n",
       "      <th></th>\n",
       "      <th></th>\n",
       "      <th></th>\n",
       "      <th></th>\n",
       "      <th></th>\n",
       "      <th></th>\n",
       "      <th></th>\n",
       "      <th></th>\n",
       "      <th></th>\n",
       "      <th></th>\n",
       "      <th></th>\n",
       "      <th></th>\n",
       "      <th></th>\n",
       "    </tr>\n",
       "  </thead>\n",
       "  <tbody>\n",
       "    <tr>\n",
       "      <th>user0</th>\n",
       "      <td>NaN</td>\n",
       "      <td>1101.0</td>\n",
       "      <td>103.0</td>\n",
       "      <td>1183.0</td>\n",
       "      <td>183.0</td>\n",
       "      <td>883.0</td>\n",
       "      <td>1142.0</td>\n",
       "      <td>446.0</td>\n",
       "      <td>2.0</td>\n",
       "      <td>219.0</td>\n",
       "      <td>894.0</td>\n",
       "      <td>551.0</td>\n",
       "      <td>1291.0</td>\n",
       "    </tr>\n",
       "    <tr>\n",
       "      <th>user1</th>\n",
       "      <td>680.0</td>\n",
       "      <td>15.0</td>\n",
       "      <td>72.0</td>\n",
       "      <td>518.0</td>\n",
       "      <td>80.0</td>\n",
       "      <td>268.0</td>\n",
       "      <td>574.0</td>\n",
       "      <td>170.0</td>\n",
       "      <td>6.0</td>\n",
       "      <td>108.0</td>\n",
       "      <td>506.0</td>\n",
       "      <td>195.0</td>\n",
       "      <td>524.0</td>\n",
       "    </tr>\n",
       "    <tr>\n",
       "      <th>user10</th>\n",
       "      <td>184.0</td>\n",
       "      <td>107.0</td>\n",
       "      <td>NaN</td>\n",
       "      <td>86.0</td>\n",
       "      <td>17.0</td>\n",
       "      <td>75.0</td>\n",
       "      <td>135.0</td>\n",
       "      <td>23.0</td>\n",
       "      <td>NaN</td>\n",
       "      <td>14.0</td>\n",
       "      <td>145.0</td>\n",
       "      <td>21.0</td>\n",
       "      <td>68.0</td>\n",
       "    </tr>\n",
       "    <tr>\n",
       "      <th>user11</th>\n",
       "      <td>335.0</td>\n",
       "      <td>97.0</td>\n",
       "      <td>19.0</td>\n",
       "      <td>NaN</td>\n",
       "      <td>36.0</td>\n",
       "      <td>91.0</td>\n",
       "      <td>181.0</td>\n",
       "      <td>44.0</td>\n",
       "      <td>NaN</td>\n",
       "      <td>15.0</td>\n",
       "      <td>102.0</td>\n",
       "      <td>103.0</td>\n",
       "      <td>126.0</td>\n",
       "    </tr>\n",
       "    <tr>\n",
       "      <th>user12</th>\n",
       "      <td>648.0</td>\n",
       "      <td>68.0</td>\n",
       "      <td>25.0</td>\n",
       "      <td>290.0</td>\n",
       "      <td>NaN</td>\n",
       "      <td>206.0</td>\n",
       "      <td>386.0</td>\n",
       "      <td>69.0</td>\n",
       "      <td>NaN</td>\n",
       "      <td>51.0</td>\n",
       "      <td>249.0</td>\n",
       "      <td>101.0</td>\n",
       "      <td>336.0</td>\n",
       "    </tr>\n",
       "    <tr>\n",
       "      <th>user2</th>\n",
       "      <td>790.0</td>\n",
       "      <td>232.0</td>\n",
       "      <td>18.0</td>\n",
       "      <td>220.0</td>\n",
       "      <td>53.0</td>\n",
       "      <td>1.0</td>\n",
       "      <td>296.0</td>\n",
       "      <td>102.0</td>\n",
       "      <td>5.0</td>\n",
       "      <td>77.0</td>\n",
       "      <td>149.0</td>\n",
       "      <td>239.0</td>\n",
       "      <td>390.0</td>\n",
       "    </tr>\n",
       "    <tr>\n",
       "      <th>user3</th>\n",
       "      <td>882.0</td>\n",
       "      <td>687.0</td>\n",
       "      <td>85.0</td>\n",
       "      <td>614.0</td>\n",
       "      <td>144.0</td>\n",
       "      <td>400.0</td>\n",
       "      <td>8.0</td>\n",
       "      <td>235.0</td>\n",
       "      <td>1.0</td>\n",
       "      <td>120.0</td>\n",
       "      <td>811.0</td>\n",
       "      <td>374.0</td>\n",
       "      <td>640.0</td>\n",
       "    </tr>\n",
       "    <tr>\n",
       "      <th>user4</th>\n",
       "      <td>272.0</td>\n",
       "      <td>74.0</td>\n",
       "      <td>17.0</td>\n",
       "      <td>133.0</td>\n",
       "      <td>16.0</td>\n",
       "      <td>65.0</td>\n",
       "      <td>278.0</td>\n",
       "      <td>NaN</td>\n",
       "      <td>NaN</td>\n",
       "      <td>32.0</td>\n",
       "      <td>170.0</td>\n",
       "      <td>71.0</td>\n",
       "      <td>236.0</td>\n",
       "    </tr>\n",
       "    <tr>\n",
       "      <th>user5</th>\n",
       "      <td>82.0</td>\n",
       "      <td>91.0</td>\n",
       "      <td>27.0</td>\n",
       "      <td>41.0</td>\n",
       "      <td>14.0</td>\n",
       "      <td>128.0</td>\n",
       "      <td>116.0</td>\n",
       "      <td>32.0</td>\n",
       "      <td>NaN</td>\n",
       "      <td>38.0</td>\n",
       "      <td>96.0</td>\n",
       "      <td>42.0</td>\n",
       "      <td>141.0</td>\n",
       "    </tr>\n",
       "    <tr>\n",
       "      <th>user6</th>\n",
       "      <td>383.0</td>\n",
       "      <td>195.0</td>\n",
       "      <td>10.0</td>\n",
       "      <td>116.0</td>\n",
       "      <td>38.0</td>\n",
       "      <td>175.0</td>\n",
       "      <td>192.0</td>\n",
       "      <td>34.0</td>\n",
       "      <td>NaN</td>\n",
       "      <td>1.0</td>\n",
       "      <td>131.0</td>\n",
       "      <td>75.0</td>\n",
       "      <td>239.0</td>\n",
       "    </tr>\n",
       "    <tr>\n",
       "      <th>user7</th>\n",
       "      <td>537.0</td>\n",
       "      <td>342.0</td>\n",
       "      <td>48.0</td>\n",
       "      <td>248.0</td>\n",
       "      <td>62.0</td>\n",
       "      <td>169.0</td>\n",
       "      <td>587.0</td>\n",
       "      <td>216.0</td>\n",
       "      <td>4.0</td>\n",
       "      <td>47.0</td>\n",
       "      <td>1.0</td>\n",
       "      <td>139.0</td>\n",
       "      <td>282.0</td>\n",
       "    </tr>\n",
       "    <tr>\n",
       "      <th>user8</th>\n",
       "      <td>428.0</td>\n",
       "      <td>189.0</td>\n",
       "      <td>27.0</td>\n",
       "      <td>292.0</td>\n",
       "      <td>42.0</td>\n",
       "      <td>205.0</td>\n",
       "      <td>234.0</td>\n",
       "      <td>74.0</td>\n",
       "      <td>1.0</td>\n",
       "      <td>33.0</td>\n",
       "      <td>128.0</td>\n",
       "      <td>5.0</td>\n",
       "      <td>269.0</td>\n",
       "    </tr>\n",
       "    <tr>\n",
       "      <th>user9</th>\n",
       "      <td>202.0</td>\n",
       "      <td>91.0</td>\n",
       "      <td>8.0</td>\n",
       "      <td>78.0</td>\n",
       "      <td>54.0</td>\n",
       "      <td>84.0</td>\n",
       "      <td>162.0</td>\n",
       "      <td>35.0</td>\n",
       "      <td>1.0</td>\n",
       "      <td>32.0</td>\n",
       "      <td>111.0</td>\n",
       "      <td>45.0</td>\n",
       "      <td>NaN</td>\n",
       "    </tr>\n",
       "  </tbody>\n",
       "</table>\n",
       "</div>"
      ],
      "text/plain": [
       "reactions    user0   user1  user10  user11  user12  user2   user3  user4  \\\n",
       "sender_name                                                                \n",
       "user0          NaN  1101.0   103.0  1183.0   183.0  883.0  1142.0  446.0   \n",
       "user1        680.0    15.0    72.0   518.0    80.0  268.0   574.0  170.0   \n",
       "user10       184.0   107.0     NaN    86.0    17.0   75.0   135.0   23.0   \n",
       "user11       335.0    97.0    19.0     NaN    36.0   91.0   181.0   44.0   \n",
       "user12       648.0    68.0    25.0   290.0     NaN  206.0   386.0   69.0   \n",
       "user2        790.0   232.0    18.0   220.0    53.0    1.0   296.0  102.0   \n",
       "user3        882.0   687.0    85.0   614.0   144.0  400.0     8.0  235.0   \n",
       "user4        272.0    74.0    17.0   133.0    16.0   65.0   278.0    NaN   \n",
       "user5         82.0    91.0    27.0    41.0    14.0  128.0   116.0   32.0   \n",
       "user6        383.0   195.0    10.0   116.0    38.0  175.0   192.0   34.0   \n",
       "user7        537.0   342.0    48.0   248.0    62.0  169.0   587.0  216.0   \n",
       "user8        428.0   189.0    27.0   292.0    42.0  205.0   234.0   74.0   \n",
       "user9        202.0    91.0     8.0    78.0    54.0   84.0   162.0   35.0   \n",
       "\n",
       "reactions    user5  user6  user7  user8   user9  \n",
       "sender_name                                      \n",
       "user0          2.0  219.0  894.0  551.0  1291.0  \n",
       "user1          6.0  108.0  506.0  195.0   524.0  \n",
       "user10         NaN   14.0  145.0   21.0    68.0  \n",
       "user11         NaN   15.0  102.0  103.0   126.0  \n",
       "user12         NaN   51.0  249.0  101.0   336.0  \n",
       "user2          5.0   77.0  149.0  239.0   390.0  \n",
       "user3          1.0  120.0  811.0  374.0   640.0  \n",
       "user4          NaN   32.0  170.0   71.0   236.0  \n",
       "user5          NaN   38.0   96.0   42.0   141.0  \n",
       "user6          NaN    1.0  131.0   75.0   239.0  \n",
       "user7          4.0   47.0    1.0  139.0   282.0  \n",
       "user8          1.0   33.0  128.0    5.0   269.0  \n",
       "user9          1.0   32.0  111.0   45.0     NaN  "
      ]
     },
     "execution_count": 1442,
     "metadata": {},
     "output_type": "execute_result"
    }
   ],
   "source": [
    "interaction # raw number of reactions "
   ]
  },
  {
   "cell_type": "code",
   "execution_count": 1443,
   "metadata": {},
   "outputs": [],
   "source": [
    "interarray=interaction.to_numpy()"
   ]
  },
  {
   "cell_type": "code",
   "execution_count": 1444,
   "metadata": {},
   "outputs": [
    {
     "name": "stdout",
     "output_type": "stream",
     "text": [
      "[[  nan 1101.  103. 1183.  183.  883. 1142.  446.    2.  219.  894.  551.\n",
      "  1291.]\n",
      " [ 680.   15.   72.  518.   80.  268.  574.  170.    6.  108.  506.  195.\n",
      "   524.]\n",
      " [ 184.  107.   nan   86.   17.   75.  135.   23.   nan   14.  145.   21.\n",
      "    68.]\n",
      " [ 335.   97.   19.   nan   36.   91.  181.   44.   nan   15.  102.  103.\n",
      "   126.]\n",
      " [ 648.   68.   25.  290.   nan  206.  386.   69.   nan   51.  249.  101.\n",
      "   336.]\n",
      " [ 790.  232.   18.  220.   53.    1.  296.  102.    5.   77.  149.  239.\n",
      "   390.]\n",
      " [ 882.  687.   85.  614.  144.  400.    8.  235.    1.  120.  811.  374.\n",
      "   640.]\n",
      " [ 272.   74.   17.  133.   16.   65.  278.   nan   nan   32.  170.   71.\n",
      "   236.]\n",
      " [  82.   91.   27.   41.   14.  128.  116.   32.   nan   38.   96.   42.\n",
      "   141.]\n",
      " [ 383.  195.   10.  116.   38.  175.  192.   34.   nan    1.  131.   75.\n",
      "   239.]\n",
      " [ 537.  342.   48.  248.   62.  169.  587.  216.    4.   47.    1.  139.\n",
      "   282.]\n",
      " [ 428.  189.   27.  292.   42.  205.  234.   74.    1.   33.  128.    5.\n",
      "   269.]\n",
      " [ 202.   91.    8.   78.   54.   84.  162.   35.    1.   32.  111.   45.\n",
      "    nan]]\n"
     ]
    }
   ],
   "source": [
    "np.set_printoptions(precision=3)\n",
    "print(interarray)"
   ]
  },
  {
   "cell_type": "code",
   "execution_count": 1445,
   "metadata": {},
   "outputs": [
    {
     "data": {
      "text/plain": [
       "array([[0.   , 0.058, 0.005, 0.062, 0.01 , 0.046, 0.06 , 0.023, 0.   ,\n",
       "        0.011, 0.047, 0.029, 0.068],\n",
       "       [0.112, 0.002, 0.012, 0.085, 0.013, 0.044, 0.094, 0.028, 0.001,\n",
       "        0.018, 0.083, 0.032, 0.086],\n",
       "       [0.082, 0.048, 0.   , 0.038, 0.008, 0.033, 0.06 , 0.01 , 0.   ,\n",
       "        0.006, 0.064, 0.009, 0.03 ],\n",
       "       [0.164, 0.048, 0.009, 0.   , 0.018, 0.045, 0.089, 0.022, 0.   ,\n",
       "        0.007, 0.05 , 0.05 , 0.062],\n",
       "       [0.11 , 0.011, 0.004, 0.049, 0.   , 0.035, 0.065, 0.012, 0.   ,\n",
       "        0.009, 0.042, 0.017, 0.057],\n",
       "       [0.129, 0.038, 0.003, 0.036, 0.009, 0.   , 0.048, 0.017, 0.001,\n",
       "        0.013, 0.024, 0.039, 0.064],\n",
       "       [0.047, 0.037, 0.005, 0.033, 0.008, 0.021, 0.   , 0.013, 0.   ,\n",
       "        0.006, 0.044, 0.02 , 0.034],\n",
       "       [0.077, 0.021, 0.005, 0.038, 0.005, 0.018, 0.079, 0.   , 0.   ,\n",
       "        0.009, 0.048, 0.02 , 0.067],\n",
       "       [0.047, 0.052, 0.016, 0.024, 0.008, 0.074, 0.067, 0.018, 0.   ,\n",
       "        0.022, 0.055, 0.024, 0.081],\n",
       "       [0.057, 0.029, 0.001, 0.017, 0.006, 0.026, 0.028, 0.005, 0.   ,\n",
       "        0.   , 0.019, 0.011, 0.035],\n",
       "       [0.063, 0.04 , 0.006, 0.029, 0.007, 0.02 , 0.069, 0.025, 0.   ,\n",
       "        0.005, 0.   , 0.016, 0.033],\n",
       "       [0.12 , 0.053, 0.008, 0.082, 0.012, 0.058, 0.066, 0.021, 0.   ,\n",
       "        0.009, 0.036, 0.001, 0.076],\n",
       "       [0.157, 0.071, 0.006, 0.061, 0.042, 0.065, 0.126, 0.027, 0.001,\n",
       "        0.025, 0.086, 0.035, 0.   ]])"
      ]
     },
     "execution_count": 1445,
     "metadata": {},
     "output_type": "execute_result"
    }
   ],
   "source": [
    "# divide column by vector: normalize number of reaction by number of messages sent\n",
    "# because the default divide is by row, thus transpose twice to divide column by vector \n",
    "# replace nan by 0\n",
    "norm_interact=np.nan_to_num( np.transpose(np.divide( np.transpose(interarray),num_of_msg['count'].to_numpy())),copy=False)\n",
    "norm_interact"
   ]
  },
  {
   "cell_type": "code",
   "execution_count": 1446,
   "metadata": {},
   "outputs": [],
   "source": [
    "labels=interaction.select_dtypes(['number']).columns\n"
   ]
  },
  {
   "cell_type": "markdown",
   "metadata": {},
   "source": [
    "Showing sending-reacting matrix "
   ]
  },
  {
   "cell_type": "code",
   "execution_count": 1447,
   "metadata": {},
   "outputs": [
    {
     "data": {
      "text/plain": [
       "Text(0, 0.5, 'sent by')"
      ]
     },
     "execution_count": 1447,
     "metadata": {},
     "output_type": "execute_result"
    },
    {
     "data": {
      "image/png": "[encoded data removed]",
      "text/plain": [
       "<Figure size 648x648 with 2 Axes>"
      ]
     },
     "metadata": {
      "needs_background": "light"
     },
     "output_type": "display_data"
    }
   ],
   "source": [
    "f = plt.figure(figsize=(9, 9))\n",
    "plt.matshow(norm_interact, fignum=f.number,cmap=plt.cm.jet)\n",
    "plt.xticks(range(interaction.select_dtypes(['number']).shape[1]),labels , fontsize=10, rotation=90)\n",
    "plt.yticks(range(interaction.select_dtypes(['number']).shape[1]), labels, fontsize=10)\n",
    "cb = plt.colorbar(fraction=0.046, pad=0.04)\n",
    "cb.ax.tick_params(labelsize=10)\n",
    "plt.rcParams['axes.titlepad'] = 20\n",
    "plt.title('probability of 😂😅 😇😉😳😆😜😕😍... by',fontsize=15)\n",
    "plt.ylabel('sent by',fontsize=15)"
   ]
  },
  {
   "cell_type": "markdown",
   "metadata": {},
   "source": [
    "For example, user0 is the most reactive user, who react the most to message sent by user 11. user5 is the least reactive user."
   ]
  },
  {
   "cell_type": "code",
   "execution_count": null,
   "metadata": {},
   "outputs": [],
   "source": []
  }
 ],
 "metadata": {
  "kernelspec": {
   "display_name": "Python 3",
   "language": "python",
   "name": "python3"
  },
  "language_info": {
   "codemirror_mode": {
    "name": "ipython",
    "version": 3
   },
   "file_extension": ".py",
   "mimetype": "text/x-python",
   "name": "python",
   "nbconvert_exporter": "python",
   "pygments_lexer": "ipython3",
   "version": "3.8.3"
  }
 },
 "nbformat": 4,
 "nbformat_minor": 4
}
